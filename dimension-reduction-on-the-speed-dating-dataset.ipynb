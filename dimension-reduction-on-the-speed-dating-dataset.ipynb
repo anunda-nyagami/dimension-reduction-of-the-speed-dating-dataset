{
 "cells": [
  {
   "cell_type": "markdown",
   "id": "2158bb80",
   "metadata": {
    "_kg_hide-output": false,
    "papermill": {
     "duration": 0.020672,
     "end_time": "2023-02-27T09:55:32.981597",
     "exception": false,
     "start_time": "2023-02-27T09:55:32.960925",
     "status": "completed"
    },
    "tags": []
   },
   "source": [
    "<h1 style=\"font-family:monospace\">1. Introduction</h1>\n",
    "<h2 style=\"font-family:monospace\">1.1 About the Dataset</h2>\n",
    "\n",
    "<div style = \"font-family:georgia, serif; font-size:17px\">\n",
    "\n",
    "The dataset is retrived from <a href = \"https://www.kaggle.com/datasets/ulrikthygepedersen/speed-dating\">Ulrik Thyge Pedersen</a> on Kaggle. \n",
    "\n",
    "This data was gathered from participants in experimental speed dating events from 2002-2004. During the events, the attendees would have a four-minute \"first date\" with every other participant of the opposite sex. At the end of their four minutes, participants were asked if they would like to see their date again. They were also asked to rate their date on six attributes: Attractiveness, Sincerity, Intelligence, Fun, Ambition, and Shared Interests. The dataset also includes questionnaire data gathered from participants at different points in the process. These fields include: demographics, dating habits, self-perception across key attributes, beliefs on what others find valuable in a mate, and lifestyle information.\n",
    "\n",
    "<table>\n",
    "    <tbody>\n",
    "        <tr><th>Variable</th><th>Description</th></tr>\n",
    "        <tr><td>gender</td><td> Gender of self</td></tr>\n",
    "        <tr><td>age</td><td> Age of self</td></tr>\n",
    "        <tr><td>age_o</td><td> Age of partner</td></tr>\n",
    "        <tr><td>d_age</td><td> Difference in age</td></tr>\n",
    "        <tr><td>d_age</td><td> Difference in age</td></tr>\n",
    "        <tr><td>race</td><td> Race of self</td></tr>\n",
    "        <tr><td>race_o</td><td> Race of partner</td></tr>\n",
    "        <tr><td>samerace</td><td> Whether the two persons have the same race or not.</td></tr>\n",
    "        <tr><td>importance_same_race</td><td> How important is it that partner is of same race?</td></tr>\n",
    "        <tr><td>importance_same_religion</td><td> How important is it that partner has same religion?</td></tr>\n",
    "        <tr><td>field</td><td> Field of study</td></tr>\n",
    "        <tr><td>pref_o_attractive</td><td> How important does partner rate attractiveness</td></tr>\n",
    "        <tr><td>pref_o_sinsere</td><td> How important does partner rate sincerity</td></tr>\n",
    "        <tr><td>pref_o_intelligence</td><td> How important does partner rate intelligence</td></tr>\n",
    "        <tr><td>pref_o_funny</td><td> How important does partner rate being funny</td></tr>\n",
    "        <tr><td>pref_o_ambitious</td><td> How important does partner rate ambition</td></tr>\n",
    "        <tr><td>pref_o_shared_interests</td><td> How important does partner rate having shared interests</td></tr>\n",
    "        <tr><td>attractive_o</td><td> Rating by partner (about me) at night of event on attractiveness</td></tr>\n",
    "        <tr><td>sincere_o</td><td> Rating by partner (about me) at night of event on sincerity</td></tr>\n",
    "        <tr><td>intelligence_o</td><td> Rating by partner (about me) at night of event on intelligence</td></tr>\n",
    "        <tr><td>funny_o</td><td> Rating by partner (about me) at night of event on being funny</td></tr>\n",
    "        <tr><td>ambitous_o</td><td> Rating by partner (about me) at night of event on being ambitious</td></tr>\n",
    "        <tr><td>shared_interests_o</td><td> Rating by partner (about me) at night of event on shared interest</td></tr>\n",
    "        <tr><td>attractive_important</td><td> What do you look for in a partner - attractiveness</td></tr>\n",
    "        <tr><td>sincere_important</td><td> What do you look for in a partner - sincerity</td></tr>\n",
    "        <tr><td>intellicence_important</td><td> What do you look for in a partner - intelligence</td></tr>\n",
    "        <tr><td>funny_important</td><td> What do you look for in a partner - being funny</td></tr>\n",
    "        <tr><td>ambtition_important</td><td> What do you look for in a partner - ambition</td></tr>\n",
    "        <tr><td>shared_interests_important</td><td> What do you look for in a partner - shared interests</td></tr>\n",
    "        <tr><td>attractive</td><td> Rate yourself - attractiveness</td></tr>\n",
    "        <tr><td>sincere</td><td> Rate yourself - sincerity</td></tr>\n",
    "        <tr><td>intelligence</td><td> Rate yourself - intelligence</td></tr>\n",
    "        <tr><td>funny</td><td> Rate yourself - being funny</td></tr>\n",
    "        <tr><td>ambition</td><td> Rate yourself - ambition</td></tr>\n",
    "        <tr><td>attractive_partner</td><td> Rate your partner - attractiveness</td></tr>\n",
    "        <tr><td>sincere_partner</td><td> Rate your partner - sincerity</td></tr>\n",
    "        <tr><td>intelligence_partner</td><td> Rate your partner - intelligence</td></tr>\n",
    "        <tr><td>funny_partner</td><td> Rate your partner - being funny</td></tr>\n",
    "        <tr><td>ambition_partner</td><td> Rate your partner - ambition</td></tr>\n",
    "        <tr><td>shared_interests_partner</td><td> Rate your partner - shared interests</td></tr>\n",
    "        <tr><td>sports</td><td> Your own interests [1-10]</td></tr>\n",
    "        <tr><td>interests_correlate</td>\n",
    "            <td> Correlation between participant’s and partner’s ratings of interests.</td></tr>\n",
    "        <tr><td>expected_happy_with_sd_people</td><td> How happy do you expect to be with the people you meet during the speed-dating event?</td></tr>\n",
    "        <tr><td>expected_num_interested_in_me</td><td> Out of the 20 people you will meet, how many do you expect will be interested in dating you?</td></tr>\n",
    "        <tr><td>expected_num_matches</td><td> How many matches do you expect to get?</td></tr>\n",
    "        <tr><td>like</td><td> Did you like your partner?</td></tr>\n",
    "        <tr><td>guess_prob_liked</td><td> How likely do you think it is that your partner likes you?</td></tr>\n",
    "        <tr><td>met</td><td> Have you met your partner before?</td></tr>\n",
    "        <tr><td>decision</td><td> Decision at night of event.</td></tr>\n",
    "        <tr><td>decision_o</td><td> Decision of partner at night of event.</td></tr>\n",
    "        <tr><td>match</td><td> Match (yes/no)</td></tr>\n",
    "    </tbody>\n",
    "</table>\n",
    "    \n",
    " <h2 style=\"font-family:monospace\">1.2 Purpose</h2>\n",
    "<ul>\n",
    "    <li>To clean the dataset and make it ready for a classification problem to determine whether the speed date is a match or not</li>\n",
    "<li>Conduct dimension reduction using various techniques to find the most important features to predict whether the date is a match or not</li>\n",
    "</ul>\n",
    "    \n",
    "<h2 style=\"font-family:monospace\">1.3 Further insight</h2>\n",
    "    \n",
    "<p style = \"font-family:georgia, serif; font-size:17px\">I have written an article explaining the steps followed in dimension reduction of the dataset and it can be found <a href =\"https://thesilentguru.com/dimension-reduction-in-python/\" >HERE</a></p>\n",
    "    \n",
    "    \n",
    "</div> "
   ]
  },
  {
   "cell_type": "markdown",
   "id": "b7207ae7",
   "metadata": {
    "papermill": {
     "duration": 0.017564,
     "end_time": "2023-02-27T09:55:33.016478",
     "exception": false,
     "start_time": "2023-02-27T09:55:32.998914",
     "status": "completed"
    },
    "tags": []
   },
   "source": [
    "<h1 style=\"font-family:monospace\">2. Import libraries and read files</h1>"
   ]
  },
  {
   "cell_type": "code",
   "execution_count": 1,
   "id": "32c14130",
   "metadata": {
    "_cell_guid": "b1076dfc-b9ad-4769-8c92-a6c4dae69d19",
    "_uuid": "8f2839f25d086af736a60e9eeb907d3b93b6e0e5",
    "execution": {
     "iopub.execute_input": "2023-02-27T09:55:33.054087Z",
     "iopub.status.busy": "2023-02-27T09:55:33.053450Z",
     "iopub.status.idle": "2023-02-27T09:55:34.974612Z",
     "shell.execute_reply": "2023-02-27T09:55:34.973029Z"
    },
    "papermill": {
     "duration": 1.946054,
     "end_time": "2023-02-27T09:55:34.979441",
     "exception": false,
     "start_time": "2023-02-27T09:55:33.033387",
     "status": "completed"
    },
    "tags": []
   },
   "outputs": [
    {
     "name": "stdout",
     "output_type": "stream",
     "text": [
      "/kaggle/input/speed-dating/speeddating.csv\n"
     ]
    }
   ],
   "source": [
    "\n",
    "import numpy as np # linear algebra\n",
    "import pandas as pd # data processing, CSV file I/O (e.g. pd.read_csv)\n",
    "import matplotlib.pyplot as plt\n",
    "import seaborn as sns\n",
    "\n",
    "from sklearn.decomposition import PCA\n",
    "from sklearn.pipeline import Pipeline\n",
    "from sklearn.preprocessing import StandardScaler, OneHotEncoder\n",
    "from sklearn.model_selection import train_test_split, cross_val_score\n",
    "from sklearn.impute import SimpleImputer\n",
    "from sklearn.feature_extraction import DictVectorizer\n",
    "\n",
    "from sklearn.linear_model import LogisticRegression\n",
    "from sklearn.svm import SVC\n",
    "from sklearn.neighbors import KNeighborsClassifier\n",
    "from sklearn.ensemble import RandomForestClassifier\n",
    "from sklearn.decomposition import PCA\n",
    "import xgboost as xgb\n",
    "\n",
    "import re\n",
    "\n",
    "import os\n",
    "for dirname, _, filenames in os.walk('/kaggle/input'):\n",
    "    for filename in filenames:\n",
    "        print(os.path.join(dirname, filename))\n",
    "\n",
    "# You can write up to 20GB to the current directory (/kaggle/working/) that gets preserved as output when you create a version using \"Save & Run All\" \n",
    "# You can also write temporary files to /kaggle/temp/, but they won't be saved outside of the current session"
   ]
  },
  {
   "cell_type": "code",
   "execution_count": 2,
   "id": "f49e8c95",
   "metadata": {
    "execution": {
     "iopub.execute_input": "2023-02-27T09:55:35.023620Z",
     "iopub.status.busy": "2023-02-27T09:55:35.023080Z",
     "iopub.status.idle": "2023-02-27T09:55:35.030136Z",
     "shell.execute_reply": "2023-02-27T09:55:35.028559Z"
    },
    "papermill": {
     "duration": 0.031273,
     "end_time": "2023-02-27T09:55:35.032932",
     "exception": false,
     "start_time": "2023-02-27T09:55:35.001659",
     "status": "completed"
    },
    "tags": []
   },
   "outputs": [],
   "source": [
    "# Set default options\n",
    "pd.set_option('display.max_columns', 150)\n",
    "pd.set_option('display.max_rows', 130)"
   ]
  },
  {
   "cell_type": "code",
   "execution_count": 3,
   "id": "9448b3a4",
   "metadata": {
    "execution": {
     "iopub.execute_input": "2023-02-27T09:55:35.077554Z",
     "iopub.status.busy": "2023-02-27T09:55:35.075863Z",
     "iopub.status.idle": "2023-02-27T09:55:35.444459Z",
     "shell.execute_reply": "2023-02-27T09:55:35.442836Z"
    },
    "papermill": {
     "duration": 0.396546,
     "end_time": "2023-02-27T09:55:35.449827",
     "exception": false,
     "start_time": "2023-02-27T09:55:35.053281",
     "status": "completed"
    },
    "tags": []
   },
   "outputs": [],
   "source": [
    "# Read dataset\n",
    "dating = pd.read_csv('/kaggle/input/speed-dating/speeddating.csv')"
   ]
  },
  {
   "cell_type": "markdown",
   "id": "fcae8ac6",
   "metadata": {
    "papermill": {
     "duration": 0.020593,
     "end_time": "2023-02-27T09:55:35.498131",
     "exception": false,
     "start_time": "2023-02-27T09:55:35.477538",
     "status": "completed"
    },
    "tags": []
   },
   "source": [
    "<h1 style=\"font-family:monospace\">3.Preview file</h1>"
   ]
  },
  {
   "cell_type": "code",
   "execution_count": 4,
   "id": "ad4a3e30",
   "metadata": {
    "execution": {
     "iopub.execute_input": "2023-02-27T09:55:35.542010Z",
     "iopub.status.busy": "2023-02-27T09:55:35.540224Z",
     "iopub.status.idle": "2023-02-27T09:55:35.688419Z",
     "shell.execute_reply": "2023-02-27T09:55:35.687018Z"
    },
    "papermill": {
     "duration": 0.172894,
     "end_time": "2023-02-27T09:55:35.691830",
     "exception": false,
     "start_time": "2023-02-27T09:55:35.518936",
     "status": "completed"
    },
    "tags": []
   },
   "outputs": [
    {
     "data": {
      "text/html": [
       "<div>\n",
       "<style scoped>\n",
       "    .dataframe tbody tr th:only-of-type {\n",
       "        vertical-align: middle;\n",
       "    }\n",
       "\n",
       "    .dataframe tbody tr th {\n",
       "        vertical-align: top;\n",
       "    }\n",
       "\n",
       "    .dataframe thead th {\n",
       "        text-align: right;\n",
       "    }\n",
       "</style>\n",
       "<table border=\"1\" class=\"dataframe\">\n",
       "  <thead>\n",
       "    <tr style=\"text-align: right;\">\n",
       "      <th></th>\n",
       "      <th>has_null</th>\n",
       "      <th>wave</th>\n",
       "      <th>gender</th>\n",
       "      <th>age</th>\n",
       "      <th>age_o</th>\n",
       "      <th>d_age</th>\n",
       "      <th>d_d_age</th>\n",
       "      <th>race</th>\n",
       "      <th>race_o</th>\n",
       "      <th>samerace</th>\n",
       "      <th>importance_same_race</th>\n",
       "      <th>importance_same_religion</th>\n",
       "      <th>d_importance_same_race</th>\n",
       "      <th>d_importance_same_religion</th>\n",
       "      <th>field</th>\n",
       "      <th>pref_o_attractive</th>\n",
       "      <th>pref_o_sincere</th>\n",
       "      <th>pref_o_intelligence</th>\n",
       "      <th>pref_o_funny</th>\n",
       "      <th>pref_o_ambitious</th>\n",
       "      <th>pref_o_shared_interests</th>\n",
       "      <th>d_pref_o_attractive</th>\n",
       "      <th>d_pref_o_sincere</th>\n",
       "      <th>d_pref_o_intelligence</th>\n",
       "      <th>d_pref_o_funny</th>\n",
       "      <th>d_pref_o_ambitious</th>\n",
       "      <th>d_pref_o_shared_interests</th>\n",
       "      <th>attractive_o</th>\n",
       "      <th>sinsere_o</th>\n",
       "      <th>intelligence_o</th>\n",
       "      <th>funny_o</th>\n",
       "      <th>ambitous_o</th>\n",
       "      <th>shared_interests_o</th>\n",
       "      <th>d_attractive_o</th>\n",
       "      <th>d_sinsere_o</th>\n",
       "      <th>d_intelligence_o</th>\n",
       "      <th>d_funny_o</th>\n",
       "      <th>d_ambitous_o</th>\n",
       "      <th>d_shared_interests_o</th>\n",
       "      <th>attractive_important</th>\n",
       "      <th>sincere_important</th>\n",
       "      <th>intellicence_important</th>\n",
       "      <th>funny_important</th>\n",
       "      <th>ambtition_important</th>\n",
       "      <th>shared_interests_important</th>\n",
       "      <th>d_attractive_important</th>\n",
       "      <th>d_sincere_important</th>\n",
       "      <th>d_intellicence_important</th>\n",
       "      <th>d_funny_important</th>\n",
       "      <th>d_ambtition_important</th>\n",
       "      <th>d_shared_interests_important</th>\n",
       "      <th>attractive</th>\n",
       "      <th>sincere</th>\n",
       "      <th>intelligence</th>\n",
       "      <th>funny</th>\n",
       "      <th>ambition</th>\n",
       "      <th>d_attractive</th>\n",
       "      <th>d_sincere</th>\n",
       "      <th>d_intelligence</th>\n",
       "      <th>d_funny</th>\n",
       "      <th>d_ambition</th>\n",
       "      <th>attractive_partner</th>\n",
       "      <th>sincere_partner</th>\n",
       "      <th>intelligence_partner</th>\n",
       "      <th>funny_partner</th>\n",
       "      <th>ambition_partner</th>\n",
       "      <th>shared_interests_partner</th>\n",
       "      <th>d_attractive_partner</th>\n",
       "      <th>d_sincere_partner</th>\n",
       "      <th>d_intelligence_partner</th>\n",
       "      <th>d_funny_partner</th>\n",
       "      <th>d_ambition_partner</th>\n",
       "      <th>d_shared_interests_partner</th>\n",
       "      <th>sports</th>\n",
       "      <th>tvsports</th>\n",
       "      <th>exercise</th>\n",
       "      <th>dining</th>\n",
       "      <th>museums</th>\n",
       "      <th>art</th>\n",
       "      <th>hiking</th>\n",
       "      <th>gaming</th>\n",
       "      <th>clubbing</th>\n",
       "      <th>reading</th>\n",
       "      <th>tv</th>\n",
       "      <th>theater</th>\n",
       "      <th>movies</th>\n",
       "      <th>concerts</th>\n",
       "      <th>music</th>\n",
       "      <th>shopping</th>\n",
       "      <th>yoga</th>\n",
       "      <th>d_sports</th>\n",
       "      <th>d_tvsports</th>\n",
       "      <th>d_exercise</th>\n",
       "      <th>d_dining</th>\n",
       "      <th>d_museums</th>\n",
       "      <th>d_art</th>\n",
       "      <th>d_hiking</th>\n",
       "      <th>d_gaming</th>\n",
       "      <th>d_clubbing</th>\n",
       "      <th>d_reading</th>\n",
       "      <th>d_tv</th>\n",
       "      <th>d_theater</th>\n",
       "      <th>d_movies</th>\n",
       "      <th>d_concerts</th>\n",
       "      <th>d_music</th>\n",
       "      <th>d_shopping</th>\n",
       "      <th>d_yoga</th>\n",
       "      <th>interests_correlate</th>\n",
       "      <th>d_interests_correlate</th>\n",
       "      <th>expected_happy_with_sd_people</th>\n",
       "      <th>expected_num_interested_in_me</th>\n",
       "      <th>expected_num_matches</th>\n",
       "      <th>d_expected_happy_with_sd_people</th>\n",
       "      <th>d_expected_num_interested_in_me</th>\n",
       "      <th>d_expected_num_matches</th>\n",
       "      <th>like</th>\n",
       "      <th>guess_prob_liked</th>\n",
       "      <th>d_like</th>\n",
       "      <th>d_guess_prob_liked</th>\n",
       "      <th>met</th>\n",
       "      <th>decision</th>\n",
       "      <th>decision_o</th>\n",
       "      <th>match</th>\n",
       "    </tr>\n",
       "  </thead>\n",
       "  <tbody>\n",
       "    <tr>\n",
       "      <th>0</th>\n",
       "      <td>b''</td>\n",
       "      <td>1.0</td>\n",
       "      <td>b'female'</td>\n",
       "      <td>21.0</td>\n",
       "      <td>27.0</td>\n",
       "      <td>6.0</td>\n",
       "      <td>b'[4-6]'</td>\n",
       "      <td>b'Asian/Pacific Islander/Asian-American'</td>\n",
       "      <td>b'European/Caucasian-American'</td>\n",
       "      <td>b'0'</td>\n",
       "      <td>2.0</td>\n",
       "      <td>4.0</td>\n",
       "      <td>b'[2-5]'</td>\n",
       "      <td>b'[2-5]'</td>\n",
       "      <td>b'Law'</td>\n",
       "      <td>35.0</td>\n",
       "      <td>20.0</td>\n",
       "      <td>20.0</td>\n",
       "      <td>20.0</td>\n",
       "      <td>0.0</td>\n",
       "      <td>5.0</td>\n",
       "      <td>b'[21-100]'</td>\n",
       "      <td>b'[16-20]'</td>\n",
       "      <td>b'[16-20]'</td>\n",
       "      <td>b'[16-20]'</td>\n",
       "      <td>b'[0-15]'</td>\n",
       "      <td>b'[0-15]'</td>\n",
       "      <td>6.0</td>\n",
       "      <td>8.0</td>\n",
       "      <td>8.0</td>\n",
       "      <td>8.0</td>\n",
       "      <td>8.0</td>\n",
       "      <td>6.0</td>\n",
       "      <td>b'[6-8]'</td>\n",
       "      <td>b'[6-8]'</td>\n",
       "      <td>b'[6-8]'</td>\n",
       "      <td>b'[6-8]'</td>\n",
       "      <td>b'[6-8]'</td>\n",
       "      <td>b'[6-8]'</td>\n",
       "      <td>15.0</td>\n",
       "      <td>20.0</td>\n",
       "      <td>20.0</td>\n",
       "      <td>15.0</td>\n",
       "      <td>15.0</td>\n",
       "      <td>15.0</td>\n",
       "      <td>b'[0-15]'</td>\n",
       "      <td>b'[16-20]'</td>\n",
       "      <td>b'[16-20]'</td>\n",
       "      <td>b'[0-15]'</td>\n",
       "      <td>b'[0-15]'</td>\n",
       "      <td>b'[0-15]'</td>\n",
       "      <td>6.0</td>\n",
       "      <td>8.0</td>\n",
       "      <td>8.0</td>\n",
       "      <td>8.0</td>\n",
       "      <td>7.0</td>\n",
       "      <td>b'[6-8]'</td>\n",
       "      <td>b'[6-8]'</td>\n",
       "      <td>b'[6-8]'</td>\n",
       "      <td>b'[6-8]'</td>\n",
       "      <td>b'[6-8]'</td>\n",
       "      <td>6.0</td>\n",
       "      <td>9.0</td>\n",
       "      <td>7.0</td>\n",
       "      <td>7.0</td>\n",
       "      <td>6.0</td>\n",
       "      <td>5.0</td>\n",
       "      <td>b'[6-8]'</td>\n",
       "      <td>b'[9-10]'</td>\n",
       "      <td>b'[6-8]'</td>\n",
       "      <td>b'[6-8]'</td>\n",
       "      <td>b'[6-8]'</td>\n",
       "      <td>b'[0-5]'</td>\n",
       "      <td>9.0</td>\n",
       "      <td>2.0</td>\n",
       "      <td>8.0</td>\n",
       "      <td>9.0</td>\n",
       "      <td>1.0</td>\n",
       "      <td>1.0</td>\n",
       "      <td>5.0</td>\n",
       "      <td>1.0</td>\n",
       "      <td>5.0</td>\n",
       "      <td>6.0</td>\n",
       "      <td>9.0</td>\n",
       "      <td>1.0</td>\n",
       "      <td>10.0</td>\n",
       "      <td>10.0</td>\n",
       "      <td>9.0</td>\n",
       "      <td>8.0</td>\n",
       "      <td>1.0</td>\n",
       "      <td>b'[9-10]'</td>\n",
       "      <td>b'[0-5]'</td>\n",
       "      <td>b'[6-8]'</td>\n",
       "      <td>b'[9-10]'</td>\n",
       "      <td>b'[0-5]'</td>\n",
       "      <td>b'[0-5]'</td>\n",
       "      <td>b'[0-5]'</td>\n",
       "      <td>b'[0-5]'</td>\n",
       "      <td>b'[0-5]'</td>\n",
       "      <td>b'[6-8]'</td>\n",
       "      <td>b'[9-10]'</td>\n",
       "      <td>b'[0-5]'</td>\n",
       "      <td>b'[9-10]'</td>\n",
       "      <td>b'[9-10]'</td>\n",
       "      <td>b'[9-10]'</td>\n",
       "      <td>b'[6-8]'</td>\n",
       "      <td>b'[0-5]'</td>\n",
       "      <td>0.14</td>\n",
       "      <td>b'[0-0.33]'</td>\n",
       "      <td>3.0</td>\n",
       "      <td>2.0</td>\n",
       "      <td>4.0</td>\n",
       "      <td>b'[0-4]'</td>\n",
       "      <td>b'[0-3]'</td>\n",
       "      <td>b'[3-5]'</td>\n",
       "      <td>7.0</td>\n",
       "      <td>6.0</td>\n",
       "      <td>b'[6-8]'</td>\n",
       "      <td>b'[5-6]'</td>\n",
       "      <td>0.0</td>\n",
       "      <td>b'1'</td>\n",
       "      <td>b'0'</td>\n",
       "      <td>b'0'</td>\n",
       "    </tr>\n",
       "    <tr>\n",
       "      <th>1</th>\n",
       "      <td>b''</td>\n",
       "      <td>1.0</td>\n",
       "      <td>b'female'</td>\n",
       "      <td>21.0</td>\n",
       "      <td>22.0</td>\n",
       "      <td>1.0</td>\n",
       "      <td>b'[0-1]'</td>\n",
       "      <td>b'Asian/Pacific Islander/Asian-American'</td>\n",
       "      <td>b'European/Caucasian-American'</td>\n",
       "      <td>b'0'</td>\n",
       "      <td>2.0</td>\n",
       "      <td>4.0</td>\n",
       "      <td>b'[2-5]'</td>\n",
       "      <td>b'[2-5]'</td>\n",
       "      <td>b'Law'</td>\n",
       "      <td>60.0</td>\n",
       "      <td>0.0</td>\n",
       "      <td>0.0</td>\n",
       "      <td>40.0</td>\n",
       "      <td>0.0</td>\n",
       "      <td>0.0</td>\n",
       "      <td>b'[21-100]'</td>\n",
       "      <td>b'[0-15]'</td>\n",
       "      <td>b'[0-15]'</td>\n",
       "      <td>b'[21-100]'</td>\n",
       "      <td>b'[0-15]'</td>\n",
       "      <td>b'[0-15]'</td>\n",
       "      <td>7.0</td>\n",
       "      <td>8.0</td>\n",
       "      <td>10.0</td>\n",
       "      <td>7.0</td>\n",
       "      <td>7.0</td>\n",
       "      <td>5.0</td>\n",
       "      <td>b'[6-8]'</td>\n",
       "      <td>b'[6-8]'</td>\n",
       "      <td>b'[9-10]'</td>\n",
       "      <td>b'[6-8]'</td>\n",
       "      <td>b'[6-8]'</td>\n",
       "      <td>b'[0-5]'</td>\n",
       "      <td>15.0</td>\n",
       "      <td>20.0</td>\n",
       "      <td>20.0</td>\n",
       "      <td>15.0</td>\n",
       "      <td>15.0</td>\n",
       "      <td>15.0</td>\n",
       "      <td>b'[0-15]'</td>\n",
       "      <td>b'[16-20]'</td>\n",
       "      <td>b'[16-20]'</td>\n",
       "      <td>b'[0-15]'</td>\n",
       "      <td>b'[0-15]'</td>\n",
       "      <td>b'[0-15]'</td>\n",
       "      <td>6.0</td>\n",
       "      <td>8.0</td>\n",
       "      <td>8.0</td>\n",
       "      <td>8.0</td>\n",
       "      <td>7.0</td>\n",
       "      <td>b'[6-8]'</td>\n",
       "      <td>b'[6-8]'</td>\n",
       "      <td>b'[6-8]'</td>\n",
       "      <td>b'[6-8]'</td>\n",
       "      <td>b'[6-8]'</td>\n",
       "      <td>7.0</td>\n",
       "      <td>8.0</td>\n",
       "      <td>7.0</td>\n",
       "      <td>8.0</td>\n",
       "      <td>5.0</td>\n",
       "      <td>6.0</td>\n",
       "      <td>b'[6-8]'</td>\n",
       "      <td>b'[6-8]'</td>\n",
       "      <td>b'[6-8]'</td>\n",
       "      <td>b'[6-8]'</td>\n",
       "      <td>b'[0-5]'</td>\n",
       "      <td>b'[6-8]'</td>\n",
       "      <td>9.0</td>\n",
       "      <td>2.0</td>\n",
       "      <td>8.0</td>\n",
       "      <td>9.0</td>\n",
       "      <td>1.0</td>\n",
       "      <td>1.0</td>\n",
       "      <td>5.0</td>\n",
       "      <td>1.0</td>\n",
       "      <td>5.0</td>\n",
       "      <td>6.0</td>\n",
       "      <td>9.0</td>\n",
       "      <td>1.0</td>\n",
       "      <td>10.0</td>\n",
       "      <td>10.0</td>\n",
       "      <td>9.0</td>\n",
       "      <td>8.0</td>\n",
       "      <td>1.0</td>\n",
       "      <td>b'[9-10]'</td>\n",
       "      <td>b'[0-5]'</td>\n",
       "      <td>b'[6-8]'</td>\n",
       "      <td>b'[9-10]'</td>\n",
       "      <td>b'[0-5]'</td>\n",
       "      <td>b'[0-5]'</td>\n",
       "      <td>b'[0-5]'</td>\n",
       "      <td>b'[0-5]'</td>\n",
       "      <td>b'[0-5]'</td>\n",
       "      <td>b'[6-8]'</td>\n",
       "      <td>b'[9-10]'</td>\n",
       "      <td>b'[0-5]'</td>\n",
       "      <td>b'[9-10]'</td>\n",
       "      <td>b'[9-10]'</td>\n",
       "      <td>b'[9-10]'</td>\n",
       "      <td>b'[6-8]'</td>\n",
       "      <td>b'[0-5]'</td>\n",
       "      <td>0.54</td>\n",
       "      <td>b'[0.33-1]'</td>\n",
       "      <td>3.0</td>\n",
       "      <td>2.0</td>\n",
       "      <td>4.0</td>\n",
       "      <td>b'[0-4]'</td>\n",
       "      <td>b'[0-3]'</td>\n",
       "      <td>b'[3-5]'</td>\n",
       "      <td>7.0</td>\n",
       "      <td>5.0</td>\n",
       "      <td>b'[6-8]'</td>\n",
       "      <td>b'[5-6]'</td>\n",
       "      <td>1.0</td>\n",
       "      <td>b'1'</td>\n",
       "      <td>b'0'</td>\n",
       "      <td>b'0'</td>\n",
       "    </tr>\n",
       "    <tr>\n",
       "      <th>2</th>\n",
       "      <td>b''</td>\n",
       "      <td>1.0</td>\n",
       "      <td>b'female'</td>\n",
       "      <td>21.0</td>\n",
       "      <td>22.0</td>\n",
       "      <td>1.0</td>\n",
       "      <td>b'[0-1]'</td>\n",
       "      <td>b'Asian/Pacific Islander/Asian-American'</td>\n",
       "      <td>b'Asian/Pacific Islander/Asian-American'</td>\n",
       "      <td>b'1'</td>\n",
       "      <td>2.0</td>\n",
       "      <td>4.0</td>\n",
       "      <td>b'[2-5]'</td>\n",
       "      <td>b'[2-5]'</td>\n",
       "      <td>b'Law'</td>\n",
       "      <td>19.0</td>\n",
       "      <td>18.0</td>\n",
       "      <td>19.0</td>\n",
       "      <td>18.0</td>\n",
       "      <td>14.0</td>\n",
       "      <td>12.0</td>\n",
       "      <td>b'[16-20]'</td>\n",
       "      <td>b'[16-20]'</td>\n",
       "      <td>b'[16-20]'</td>\n",
       "      <td>b'[16-20]'</td>\n",
       "      <td>b'[0-15]'</td>\n",
       "      <td>b'[0-15]'</td>\n",
       "      <td>10.0</td>\n",
       "      <td>10.0</td>\n",
       "      <td>10.0</td>\n",
       "      <td>10.0</td>\n",
       "      <td>10.0</td>\n",
       "      <td>10.0</td>\n",
       "      <td>b'[9-10]'</td>\n",
       "      <td>b'[9-10]'</td>\n",
       "      <td>b'[9-10]'</td>\n",
       "      <td>b'[9-10]'</td>\n",
       "      <td>b'[9-10]'</td>\n",
       "      <td>b'[9-10]'</td>\n",
       "      <td>15.0</td>\n",
       "      <td>20.0</td>\n",
       "      <td>20.0</td>\n",
       "      <td>15.0</td>\n",
       "      <td>15.0</td>\n",
       "      <td>15.0</td>\n",
       "      <td>b'[0-15]'</td>\n",
       "      <td>b'[16-20]'</td>\n",
       "      <td>b'[16-20]'</td>\n",
       "      <td>b'[0-15]'</td>\n",
       "      <td>b'[0-15]'</td>\n",
       "      <td>b'[0-15]'</td>\n",
       "      <td>6.0</td>\n",
       "      <td>8.0</td>\n",
       "      <td>8.0</td>\n",
       "      <td>8.0</td>\n",
       "      <td>7.0</td>\n",
       "      <td>b'[6-8]'</td>\n",
       "      <td>b'[6-8]'</td>\n",
       "      <td>b'[6-8]'</td>\n",
       "      <td>b'[6-8]'</td>\n",
       "      <td>b'[6-8]'</td>\n",
       "      <td>5.0</td>\n",
       "      <td>8.0</td>\n",
       "      <td>9.0</td>\n",
       "      <td>8.0</td>\n",
       "      <td>5.0</td>\n",
       "      <td>7.0</td>\n",
       "      <td>b'[0-5]'</td>\n",
       "      <td>b'[6-8]'</td>\n",
       "      <td>b'[9-10]'</td>\n",
       "      <td>b'[6-8]'</td>\n",
       "      <td>b'[0-5]'</td>\n",
       "      <td>b'[6-8]'</td>\n",
       "      <td>9.0</td>\n",
       "      <td>2.0</td>\n",
       "      <td>8.0</td>\n",
       "      <td>9.0</td>\n",
       "      <td>1.0</td>\n",
       "      <td>1.0</td>\n",
       "      <td>5.0</td>\n",
       "      <td>1.0</td>\n",
       "      <td>5.0</td>\n",
       "      <td>6.0</td>\n",
       "      <td>9.0</td>\n",
       "      <td>1.0</td>\n",
       "      <td>10.0</td>\n",
       "      <td>10.0</td>\n",
       "      <td>9.0</td>\n",
       "      <td>8.0</td>\n",
       "      <td>1.0</td>\n",
       "      <td>b'[9-10]'</td>\n",
       "      <td>b'[0-5]'</td>\n",
       "      <td>b'[6-8]'</td>\n",
       "      <td>b'[9-10]'</td>\n",
       "      <td>b'[0-5]'</td>\n",
       "      <td>b'[0-5]'</td>\n",
       "      <td>b'[0-5]'</td>\n",
       "      <td>b'[0-5]'</td>\n",
       "      <td>b'[0-5]'</td>\n",
       "      <td>b'[6-8]'</td>\n",
       "      <td>b'[9-10]'</td>\n",
       "      <td>b'[0-5]'</td>\n",
       "      <td>b'[9-10]'</td>\n",
       "      <td>b'[9-10]'</td>\n",
       "      <td>b'[9-10]'</td>\n",
       "      <td>b'[6-8]'</td>\n",
       "      <td>b'[0-5]'</td>\n",
       "      <td>0.16</td>\n",
       "      <td>b'[0-0.33]'</td>\n",
       "      <td>3.0</td>\n",
       "      <td>2.0</td>\n",
       "      <td>4.0</td>\n",
       "      <td>b'[0-4]'</td>\n",
       "      <td>b'[0-3]'</td>\n",
       "      <td>b'[3-5]'</td>\n",
       "      <td>7.0</td>\n",
       "      <td>NaN</td>\n",
       "      <td>b'[6-8]'</td>\n",
       "      <td>b'[0-4]'</td>\n",
       "      <td>1.0</td>\n",
       "      <td>b'1'</td>\n",
       "      <td>b'1'</td>\n",
       "      <td>b'1'</td>\n",
       "    </tr>\n",
       "    <tr>\n",
       "      <th>3</th>\n",
       "      <td>b''</td>\n",
       "      <td>1.0</td>\n",
       "      <td>b'female'</td>\n",
       "      <td>21.0</td>\n",
       "      <td>23.0</td>\n",
       "      <td>2.0</td>\n",
       "      <td>b'[2-3]'</td>\n",
       "      <td>b'Asian/Pacific Islander/Asian-American'</td>\n",
       "      <td>b'European/Caucasian-American'</td>\n",
       "      <td>b'0'</td>\n",
       "      <td>2.0</td>\n",
       "      <td>4.0</td>\n",
       "      <td>b'[2-5]'</td>\n",
       "      <td>b'[2-5]'</td>\n",
       "      <td>b'Law'</td>\n",
       "      <td>30.0</td>\n",
       "      <td>5.0</td>\n",
       "      <td>15.0</td>\n",
       "      <td>40.0</td>\n",
       "      <td>5.0</td>\n",
       "      <td>5.0</td>\n",
       "      <td>b'[21-100]'</td>\n",
       "      <td>b'[0-15]'</td>\n",
       "      <td>b'[0-15]'</td>\n",
       "      <td>b'[21-100]'</td>\n",
       "      <td>b'[0-15]'</td>\n",
       "      <td>b'[0-15]'</td>\n",
       "      <td>7.0</td>\n",
       "      <td>8.0</td>\n",
       "      <td>9.0</td>\n",
       "      <td>8.0</td>\n",
       "      <td>9.0</td>\n",
       "      <td>8.0</td>\n",
       "      <td>b'[6-8]'</td>\n",
       "      <td>b'[6-8]'</td>\n",
       "      <td>b'[9-10]'</td>\n",
       "      <td>b'[6-8]'</td>\n",
       "      <td>b'[9-10]'</td>\n",
       "      <td>b'[6-8]'</td>\n",
       "      <td>15.0</td>\n",
       "      <td>20.0</td>\n",
       "      <td>20.0</td>\n",
       "      <td>15.0</td>\n",
       "      <td>15.0</td>\n",
       "      <td>15.0</td>\n",
       "      <td>b'[0-15]'</td>\n",
       "      <td>b'[16-20]'</td>\n",
       "      <td>b'[16-20]'</td>\n",
       "      <td>b'[0-15]'</td>\n",
       "      <td>b'[0-15]'</td>\n",
       "      <td>b'[0-15]'</td>\n",
       "      <td>6.0</td>\n",
       "      <td>8.0</td>\n",
       "      <td>8.0</td>\n",
       "      <td>8.0</td>\n",
       "      <td>7.0</td>\n",
       "      <td>b'[6-8]'</td>\n",
       "      <td>b'[6-8]'</td>\n",
       "      <td>b'[6-8]'</td>\n",
       "      <td>b'[6-8]'</td>\n",
       "      <td>b'[6-8]'</td>\n",
       "      <td>7.0</td>\n",
       "      <td>6.0</td>\n",
       "      <td>8.0</td>\n",
       "      <td>7.0</td>\n",
       "      <td>6.0</td>\n",
       "      <td>8.0</td>\n",
       "      <td>b'[6-8]'</td>\n",
       "      <td>b'[6-8]'</td>\n",
       "      <td>b'[6-8]'</td>\n",
       "      <td>b'[6-8]'</td>\n",
       "      <td>b'[6-8]'</td>\n",
       "      <td>b'[6-8]'</td>\n",
       "      <td>9.0</td>\n",
       "      <td>2.0</td>\n",
       "      <td>8.0</td>\n",
       "      <td>9.0</td>\n",
       "      <td>1.0</td>\n",
       "      <td>1.0</td>\n",
       "      <td>5.0</td>\n",
       "      <td>1.0</td>\n",
       "      <td>5.0</td>\n",
       "      <td>6.0</td>\n",
       "      <td>9.0</td>\n",
       "      <td>1.0</td>\n",
       "      <td>10.0</td>\n",
       "      <td>10.0</td>\n",
       "      <td>9.0</td>\n",
       "      <td>8.0</td>\n",
       "      <td>1.0</td>\n",
       "      <td>b'[9-10]'</td>\n",
       "      <td>b'[0-5]'</td>\n",
       "      <td>b'[6-8]'</td>\n",
       "      <td>b'[9-10]'</td>\n",
       "      <td>b'[0-5]'</td>\n",
       "      <td>b'[0-5]'</td>\n",
       "      <td>b'[0-5]'</td>\n",
       "      <td>b'[0-5]'</td>\n",
       "      <td>b'[0-5]'</td>\n",
       "      <td>b'[6-8]'</td>\n",
       "      <td>b'[9-10]'</td>\n",
       "      <td>b'[0-5]'</td>\n",
       "      <td>b'[9-10]'</td>\n",
       "      <td>b'[9-10]'</td>\n",
       "      <td>b'[9-10]'</td>\n",
       "      <td>b'[6-8]'</td>\n",
       "      <td>b'[0-5]'</td>\n",
       "      <td>0.61</td>\n",
       "      <td>b'[0.33-1]'</td>\n",
       "      <td>3.0</td>\n",
       "      <td>2.0</td>\n",
       "      <td>4.0</td>\n",
       "      <td>b'[0-4]'</td>\n",
       "      <td>b'[0-3]'</td>\n",
       "      <td>b'[3-5]'</td>\n",
       "      <td>7.0</td>\n",
       "      <td>6.0</td>\n",
       "      <td>b'[6-8]'</td>\n",
       "      <td>b'[5-6]'</td>\n",
       "      <td>0.0</td>\n",
       "      <td>b'1'</td>\n",
       "      <td>b'1'</td>\n",
       "      <td>b'1'</td>\n",
       "    </tr>\n",
       "    <tr>\n",
       "      <th>4</th>\n",
       "      <td>b''</td>\n",
       "      <td>1.0</td>\n",
       "      <td>b'female'</td>\n",
       "      <td>21.0</td>\n",
       "      <td>24.0</td>\n",
       "      <td>3.0</td>\n",
       "      <td>b'[2-3]'</td>\n",
       "      <td>b'Asian/Pacific Islander/Asian-American'</td>\n",
       "      <td>b'Latino/Hispanic American'</td>\n",
       "      <td>b'0'</td>\n",
       "      <td>2.0</td>\n",
       "      <td>4.0</td>\n",
       "      <td>b'[2-5]'</td>\n",
       "      <td>b'[2-5]'</td>\n",
       "      <td>b'Law'</td>\n",
       "      <td>30.0</td>\n",
       "      <td>10.0</td>\n",
       "      <td>20.0</td>\n",
       "      <td>10.0</td>\n",
       "      <td>10.0</td>\n",
       "      <td>20.0</td>\n",
       "      <td>b'[21-100]'</td>\n",
       "      <td>b'[0-15]'</td>\n",
       "      <td>b'[16-20]'</td>\n",
       "      <td>b'[0-15]'</td>\n",
       "      <td>b'[0-15]'</td>\n",
       "      <td>b'[16-20]'</td>\n",
       "      <td>8.0</td>\n",
       "      <td>7.0</td>\n",
       "      <td>9.0</td>\n",
       "      <td>6.0</td>\n",
       "      <td>9.0</td>\n",
       "      <td>7.0</td>\n",
       "      <td>b'[6-8]'</td>\n",
       "      <td>b'[6-8]'</td>\n",
       "      <td>b'[9-10]'</td>\n",
       "      <td>b'[6-8]'</td>\n",
       "      <td>b'[9-10]'</td>\n",
       "      <td>b'[6-8]'</td>\n",
       "      <td>15.0</td>\n",
       "      <td>20.0</td>\n",
       "      <td>20.0</td>\n",
       "      <td>15.0</td>\n",
       "      <td>15.0</td>\n",
       "      <td>15.0</td>\n",
       "      <td>b'[0-15]'</td>\n",
       "      <td>b'[16-20]'</td>\n",
       "      <td>b'[16-20]'</td>\n",
       "      <td>b'[0-15]'</td>\n",
       "      <td>b'[0-15]'</td>\n",
       "      <td>b'[0-15]'</td>\n",
       "      <td>6.0</td>\n",
       "      <td>8.0</td>\n",
       "      <td>8.0</td>\n",
       "      <td>8.0</td>\n",
       "      <td>7.0</td>\n",
       "      <td>b'[6-8]'</td>\n",
       "      <td>b'[6-8]'</td>\n",
       "      <td>b'[6-8]'</td>\n",
       "      <td>b'[6-8]'</td>\n",
       "      <td>b'[6-8]'</td>\n",
       "      <td>5.0</td>\n",
       "      <td>6.0</td>\n",
       "      <td>7.0</td>\n",
       "      <td>7.0</td>\n",
       "      <td>6.0</td>\n",
       "      <td>6.0</td>\n",
       "      <td>b'[0-5]'</td>\n",
       "      <td>b'[6-8]'</td>\n",
       "      <td>b'[6-8]'</td>\n",
       "      <td>b'[6-8]'</td>\n",
       "      <td>b'[6-8]'</td>\n",
       "      <td>b'[6-8]'</td>\n",
       "      <td>9.0</td>\n",
       "      <td>2.0</td>\n",
       "      <td>8.0</td>\n",
       "      <td>9.0</td>\n",
       "      <td>1.0</td>\n",
       "      <td>1.0</td>\n",
       "      <td>5.0</td>\n",
       "      <td>1.0</td>\n",
       "      <td>5.0</td>\n",
       "      <td>6.0</td>\n",
       "      <td>9.0</td>\n",
       "      <td>1.0</td>\n",
       "      <td>10.0</td>\n",
       "      <td>10.0</td>\n",
       "      <td>9.0</td>\n",
       "      <td>8.0</td>\n",
       "      <td>1.0</td>\n",
       "      <td>b'[9-10]'</td>\n",
       "      <td>b'[0-5]'</td>\n",
       "      <td>b'[6-8]'</td>\n",
       "      <td>b'[9-10]'</td>\n",
       "      <td>b'[0-5]'</td>\n",
       "      <td>b'[0-5]'</td>\n",
       "      <td>b'[0-5]'</td>\n",
       "      <td>b'[0-5]'</td>\n",
       "      <td>b'[0-5]'</td>\n",
       "      <td>b'[6-8]'</td>\n",
       "      <td>b'[9-10]'</td>\n",
       "      <td>b'[0-5]'</td>\n",
       "      <td>b'[9-10]'</td>\n",
       "      <td>b'[9-10]'</td>\n",
       "      <td>b'[9-10]'</td>\n",
       "      <td>b'[6-8]'</td>\n",
       "      <td>b'[0-5]'</td>\n",
       "      <td>0.21</td>\n",
       "      <td>b'[0-0.33]'</td>\n",
       "      <td>3.0</td>\n",
       "      <td>2.0</td>\n",
       "      <td>4.0</td>\n",
       "      <td>b'[0-4]'</td>\n",
       "      <td>b'[0-3]'</td>\n",
       "      <td>b'[3-5]'</td>\n",
       "      <td>6.0</td>\n",
       "      <td>6.0</td>\n",
       "      <td>b'[6-8]'</td>\n",
       "      <td>b'[5-6]'</td>\n",
       "      <td>0.0</td>\n",
       "      <td>b'1'</td>\n",
       "      <td>b'1'</td>\n",
       "      <td>b'1'</td>\n",
       "    </tr>\n",
       "  </tbody>\n",
       "</table>\n",
       "</div>"
      ],
      "text/plain": [
       "  has_null  wave     gender   age  age_o  d_age   d_d_age  \\\n",
       "0      b''   1.0  b'female'  21.0   27.0    6.0  b'[4-6]'   \n",
       "1      b''   1.0  b'female'  21.0   22.0    1.0  b'[0-1]'   \n",
       "2      b''   1.0  b'female'  21.0   22.0    1.0  b'[0-1]'   \n",
       "3      b''   1.0  b'female'  21.0   23.0    2.0  b'[2-3]'   \n",
       "4      b''   1.0  b'female'  21.0   24.0    3.0  b'[2-3]'   \n",
       "\n",
       "                                       race  \\\n",
       "0  b'Asian/Pacific Islander/Asian-American'   \n",
       "1  b'Asian/Pacific Islander/Asian-American'   \n",
       "2  b'Asian/Pacific Islander/Asian-American'   \n",
       "3  b'Asian/Pacific Islander/Asian-American'   \n",
       "4  b'Asian/Pacific Islander/Asian-American'   \n",
       "\n",
       "                                     race_o samerace  importance_same_race  \\\n",
       "0            b'European/Caucasian-American'     b'0'                   2.0   \n",
       "1            b'European/Caucasian-American'     b'0'                   2.0   \n",
       "2  b'Asian/Pacific Islander/Asian-American'     b'1'                   2.0   \n",
       "3            b'European/Caucasian-American'     b'0'                   2.0   \n",
       "4               b'Latino/Hispanic American'     b'0'                   2.0   \n",
       "\n",
       "   importance_same_religion d_importance_same_race d_importance_same_religion  \\\n",
       "0                       4.0               b'[2-5]'                   b'[2-5]'   \n",
       "1                       4.0               b'[2-5]'                   b'[2-5]'   \n",
       "2                       4.0               b'[2-5]'                   b'[2-5]'   \n",
       "3                       4.0               b'[2-5]'                   b'[2-5]'   \n",
       "4                       4.0               b'[2-5]'                   b'[2-5]'   \n",
       "\n",
       "    field  pref_o_attractive  pref_o_sincere  pref_o_intelligence  \\\n",
       "0  b'Law'               35.0            20.0                 20.0   \n",
       "1  b'Law'               60.0             0.0                  0.0   \n",
       "2  b'Law'               19.0            18.0                 19.0   \n",
       "3  b'Law'               30.0             5.0                 15.0   \n",
       "4  b'Law'               30.0            10.0                 20.0   \n",
       "\n",
       "   pref_o_funny  pref_o_ambitious  pref_o_shared_interests  \\\n",
       "0          20.0               0.0                      5.0   \n",
       "1          40.0               0.0                      0.0   \n",
       "2          18.0              14.0                     12.0   \n",
       "3          40.0               5.0                      5.0   \n",
       "4          10.0              10.0                     20.0   \n",
       "\n",
       "  d_pref_o_attractive d_pref_o_sincere d_pref_o_intelligence d_pref_o_funny  \\\n",
       "0         b'[21-100]'       b'[16-20]'            b'[16-20]'     b'[16-20]'   \n",
       "1         b'[21-100]'        b'[0-15]'             b'[0-15]'    b'[21-100]'   \n",
       "2          b'[16-20]'       b'[16-20]'            b'[16-20]'     b'[16-20]'   \n",
       "3         b'[21-100]'        b'[0-15]'             b'[0-15]'    b'[21-100]'   \n",
       "4         b'[21-100]'        b'[0-15]'            b'[16-20]'      b'[0-15]'   \n",
       "\n",
       "  d_pref_o_ambitious d_pref_o_shared_interests  attractive_o  sinsere_o  \\\n",
       "0          b'[0-15]'                 b'[0-15]'           6.0        8.0   \n",
       "1          b'[0-15]'                 b'[0-15]'           7.0        8.0   \n",
       "2          b'[0-15]'                 b'[0-15]'          10.0       10.0   \n",
       "3          b'[0-15]'                 b'[0-15]'           7.0        8.0   \n",
       "4          b'[0-15]'                b'[16-20]'           8.0        7.0   \n",
       "\n",
       "   intelligence_o  funny_o  ambitous_o  shared_interests_o d_attractive_o  \\\n",
       "0             8.0      8.0         8.0                 6.0       b'[6-8]'   \n",
       "1            10.0      7.0         7.0                 5.0       b'[6-8]'   \n",
       "2            10.0     10.0        10.0                10.0      b'[9-10]'   \n",
       "3             9.0      8.0         9.0                 8.0       b'[6-8]'   \n",
       "4             9.0      6.0         9.0                 7.0       b'[6-8]'   \n",
       "\n",
       "  d_sinsere_o d_intelligence_o  d_funny_o d_ambitous_o d_shared_interests_o  \\\n",
       "0    b'[6-8]'         b'[6-8]'   b'[6-8]'     b'[6-8]'             b'[6-8]'   \n",
       "1    b'[6-8]'        b'[9-10]'   b'[6-8]'     b'[6-8]'             b'[0-5]'   \n",
       "2   b'[9-10]'        b'[9-10]'  b'[9-10]'    b'[9-10]'            b'[9-10]'   \n",
       "3    b'[6-8]'        b'[9-10]'   b'[6-8]'    b'[9-10]'             b'[6-8]'   \n",
       "4    b'[6-8]'        b'[9-10]'   b'[6-8]'    b'[9-10]'             b'[6-8]'   \n",
       "\n",
       "   attractive_important  sincere_important  intellicence_important  \\\n",
       "0                  15.0               20.0                    20.0   \n",
       "1                  15.0               20.0                    20.0   \n",
       "2                  15.0               20.0                    20.0   \n",
       "3                  15.0               20.0                    20.0   \n",
       "4                  15.0               20.0                    20.0   \n",
       "\n",
       "   funny_important  ambtition_important  shared_interests_important  \\\n",
       "0             15.0                 15.0                        15.0   \n",
       "1             15.0                 15.0                        15.0   \n",
       "2             15.0                 15.0                        15.0   \n",
       "3             15.0                 15.0                        15.0   \n",
       "4             15.0                 15.0                        15.0   \n",
       "\n",
       "  d_attractive_important d_sincere_important d_intellicence_important  \\\n",
       "0              b'[0-15]'          b'[16-20]'               b'[16-20]'   \n",
       "1              b'[0-15]'          b'[16-20]'               b'[16-20]'   \n",
       "2              b'[0-15]'          b'[16-20]'               b'[16-20]'   \n",
       "3              b'[0-15]'          b'[16-20]'               b'[16-20]'   \n",
       "4              b'[0-15]'          b'[16-20]'               b'[16-20]'   \n",
       "\n",
       "  d_funny_important d_ambtition_important d_shared_interests_important  \\\n",
       "0         b'[0-15]'             b'[0-15]'                    b'[0-15]'   \n",
       "1         b'[0-15]'             b'[0-15]'                    b'[0-15]'   \n",
       "2         b'[0-15]'             b'[0-15]'                    b'[0-15]'   \n",
       "3         b'[0-15]'             b'[0-15]'                    b'[0-15]'   \n",
       "4         b'[0-15]'             b'[0-15]'                    b'[0-15]'   \n",
       "\n",
       "   attractive  sincere  intelligence  funny  ambition d_attractive d_sincere  \\\n",
       "0         6.0      8.0           8.0    8.0       7.0     b'[6-8]'  b'[6-8]'   \n",
       "1         6.0      8.0           8.0    8.0       7.0     b'[6-8]'  b'[6-8]'   \n",
       "2         6.0      8.0           8.0    8.0       7.0     b'[6-8]'  b'[6-8]'   \n",
       "3         6.0      8.0           8.0    8.0       7.0     b'[6-8]'  b'[6-8]'   \n",
       "4         6.0      8.0           8.0    8.0       7.0     b'[6-8]'  b'[6-8]'   \n",
       "\n",
       "  d_intelligence   d_funny d_ambition  attractive_partner  sincere_partner  \\\n",
       "0       b'[6-8]'  b'[6-8]'   b'[6-8]'                 6.0              9.0   \n",
       "1       b'[6-8]'  b'[6-8]'   b'[6-8]'                 7.0              8.0   \n",
       "2       b'[6-8]'  b'[6-8]'   b'[6-8]'                 5.0              8.0   \n",
       "3       b'[6-8]'  b'[6-8]'   b'[6-8]'                 7.0              6.0   \n",
       "4       b'[6-8]'  b'[6-8]'   b'[6-8]'                 5.0              6.0   \n",
       "\n",
       "   intelligence_partner  funny_partner  ambition_partner  \\\n",
       "0                   7.0            7.0               6.0   \n",
       "1                   7.0            8.0               5.0   \n",
       "2                   9.0            8.0               5.0   \n",
       "3                   8.0            7.0               6.0   \n",
       "4                   7.0            7.0               6.0   \n",
       "\n",
       "   shared_interests_partner d_attractive_partner d_sincere_partner  \\\n",
       "0                       5.0             b'[6-8]'         b'[9-10]'   \n",
       "1                       6.0             b'[6-8]'          b'[6-8]'   \n",
       "2                       7.0             b'[0-5]'          b'[6-8]'   \n",
       "3                       8.0             b'[6-8]'          b'[6-8]'   \n",
       "4                       6.0             b'[0-5]'          b'[6-8]'   \n",
       "\n",
       "  d_intelligence_partner d_funny_partner d_ambition_partner  \\\n",
       "0               b'[6-8]'        b'[6-8]'           b'[6-8]'   \n",
       "1               b'[6-8]'        b'[6-8]'           b'[0-5]'   \n",
       "2              b'[9-10]'        b'[6-8]'           b'[0-5]'   \n",
       "3               b'[6-8]'        b'[6-8]'           b'[6-8]'   \n",
       "4               b'[6-8]'        b'[6-8]'           b'[6-8]'   \n",
       "\n",
       "  d_shared_interests_partner  sports  tvsports  exercise  dining  museums  \\\n",
       "0                   b'[0-5]'     9.0       2.0       8.0     9.0      1.0   \n",
       "1                   b'[6-8]'     9.0       2.0       8.0     9.0      1.0   \n",
       "2                   b'[6-8]'     9.0       2.0       8.0     9.0      1.0   \n",
       "3                   b'[6-8]'     9.0       2.0       8.0     9.0      1.0   \n",
       "4                   b'[6-8]'     9.0       2.0       8.0     9.0      1.0   \n",
       "\n",
       "   art  hiking  gaming  clubbing  reading   tv  theater  movies  concerts  \\\n",
       "0  1.0     5.0     1.0       5.0      6.0  9.0      1.0    10.0      10.0   \n",
       "1  1.0     5.0     1.0       5.0      6.0  9.0      1.0    10.0      10.0   \n",
       "2  1.0     5.0     1.0       5.0      6.0  9.0      1.0    10.0      10.0   \n",
       "3  1.0     5.0     1.0       5.0      6.0  9.0      1.0    10.0      10.0   \n",
       "4  1.0     5.0     1.0       5.0      6.0  9.0      1.0    10.0      10.0   \n",
       "\n",
       "   music  shopping  yoga   d_sports d_tvsports d_exercise   d_dining  \\\n",
       "0    9.0       8.0   1.0  b'[9-10]'   b'[0-5]'   b'[6-8]'  b'[9-10]'   \n",
       "1    9.0       8.0   1.0  b'[9-10]'   b'[0-5]'   b'[6-8]'  b'[9-10]'   \n",
       "2    9.0       8.0   1.0  b'[9-10]'   b'[0-5]'   b'[6-8]'  b'[9-10]'   \n",
       "3    9.0       8.0   1.0  b'[9-10]'   b'[0-5]'   b'[6-8]'  b'[9-10]'   \n",
       "4    9.0       8.0   1.0  b'[9-10]'   b'[0-5]'   b'[6-8]'  b'[9-10]'   \n",
       "\n",
       "  d_museums     d_art  d_hiking  d_gaming d_clubbing d_reading       d_tv  \\\n",
       "0  b'[0-5]'  b'[0-5]'  b'[0-5]'  b'[0-5]'   b'[0-5]'  b'[6-8]'  b'[9-10]'   \n",
       "1  b'[0-5]'  b'[0-5]'  b'[0-5]'  b'[0-5]'   b'[0-5]'  b'[6-8]'  b'[9-10]'   \n",
       "2  b'[0-5]'  b'[0-5]'  b'[0-5]'  b'[0-5]'   b'[0-5]'  b'[6-8]'  b'[9-10]'   \n",
       "3  b'[0-5]'  b'[0-5]'  b'[0-5]'  b'[0-5]'   b'[0-5]'  b'[6-8]'  b'[9-10]'   \n",
       "4  b'[0-5]'  b'[0-5]'  b'[0-5]'  b'[0-5]'   b'[0-5]'  b'[6-8]'  b'[9-10]'   \n",
       "\n",
       "  d_theater   d_movies d_concerts    d_music d_shopping    d_yoga  \\\n",
       "0  b'[0-5]'  b'[9-10]'  b'[9-10]'  b'[9-10]'   b'[6-8]'  b'[0-5]'   \n",
       "1  b'[0-5]'  b'[9-10]'  b'[9-10]'  b'[9-10]'   b'[6-8]'  b'[0-5]'   \n",
       "2  b'[0-5]'  b'[9-10]'  b'[9-10]'  b'[9-10]'   b'[6-8]'  b'[0-5]'   \n",
       "3  b'[0-5]'  b'[9-10]'  b'[9-10]'  b'[9-10]'   b'[6-8]'  b'[0-5]'   \n",
       "4  b'[0-5]'  b'[9-10]'  b'[9-10]'  b'[9-10]'   b'[6-8]'  b'[0-5]'   \n",
       "\n",
       "   interests_correlate d_interests_correlate  expected_happy_with_sd_people  \\\n",
       "0                 0.14           b'[0-0.33]'                            3.0   \n",
       "1                 0.54           b'[0.33-1]'                            3.0   \n",
       "2                 0.16           b'[0-0.33]'                            3.0   \n",
       "3                 0.61           b'[0.33-1]'                            3.0   \n",
       "4                 0.21           b'[0-0.33]'                            3.0   \n",
       "\n",
       "   expected_num_interested_in_me  expected_num_matches  \\\n",
       "0                            2.0                   4.0   \n",
       "1                            2.0                   4.0   \n",
       "2                            2.0                   4.0   \n",
       "3                            2.0                   4.0   \n",
       "4                            2.0                   4.0   \n",
       "\n",
       "  d_expected_happy_with_sd_people d_expected_num_interested_in_me  \\\n",
       "0                        b'[0-4]'                        b'[0-3]'   \n",
       "1                        b'[0-4]'                        b'[0-3]'   \n",
       "2                        b'[0-4]'                        b'[0-3]'   \n",
       "3                        b'[0-4]'                        b'[0-3]'   \n",
       "4                        b'[0-4]'                        b'[0-3]'   \n",
       "\n",
       "  d_expected_num_matches  like  guess_prob_liked    d_like d_guess_prob_liked  \\\n",
       "0               b'[3-5]'   7.0               6.0  b'[6-8]'           b'[5-6]'   \n",
       "1               b'[3-5]'   7.0               5.0  b'[6-8]'           b'[5-6]'   \n",
       "2               b'[3-5]'   7.0               NaN  b'[6-8]'           b'[0-4]'   \n",
       "3               b'[3-5]'   7.0               6.0  b'[6-8]'           b'[5-6]'   \n",
       "4               b'[3-5]'   6.0               6.0  b'[6-8]'           b'[5-6]'   \n",
       "\n",
       "   met decision decision_o match  \n",
       "0  0.0     b'1'       b'0'  b'0'  \n",
       "1  1.0     b'1'       b'0'  b'0'  \n",
       "2  1.0     b'1'       b'1'  b'1'  \n",
       "3  0.0     b'1'       b'1'  b'1'  \n",
       "4  0.0     b'1'       b'1'  b'1'  "
      ]
     },
     "execution_count": 4,
     "metadata": {},
     "output_type": "execute_result"
    }
   ],
   "source": [
    "dating.head()"
   ]
  },
  {
   "cell_type": "code",
   "execution_count": 5,
   "id": "5b1b298c",
   "metadata": {
    "execution": {
     "iopub.execute_input": "2023-02-27T09:55:35.733364Z",
     "iopub.status.busy": "2023-02-27T09:55:35.732809Z",
     "iopub.status.idle": "2023-02-27T09:55:35.770766Z",
     "shell.execute_reply": "2023-02-27T09:55:35.769457Z"
    },
    "papermill": {
     "duration": 0.061479,
     "end_time": "2023-02-27T09:55:35.773583",
     "exception": false,
     "start_time": "2023-02-27T09:55:35.712104",
     "status": "completed"
    },
    "tags": []
   },
   "outputs": [
    {
     "name": "stdout",
     "output_type": "stream",
     "text": [
      "<class 'pandas.core.frame.DataFrame'>\n",
      "RangeIndex: 8378 entries, 0 to 8377\n",
      "Columns: 123 entries, has_null to match\n",
      "dtypes: float64(59), object(64)\n",
      "memory usage: 7.9+ MB\n"
     ]
    }
   ],
   "source": [
    "dating.info()"
   ]
  },
  {
   "cell_type": "code",
   "execution_count": 6,
   "id": "ed5d995f",
   "metadata": {
    "execution": {
     "iopub.execute_input": "2023-02-27T09:55:35.818179Z",
     "iopub.status.busy": "2023-02-27T09:55:35.817092Z",
     "iopub.status.idle": "2023-02-27T09:55:35.826732Z",
     "shell.execute_reply": "2023-02-27T09:55:35.825206Z"
    },
    "papermill": {
     "duration": 0.035542,
     "end_time": "2023-02-27T09:55:35.829987",
     "exception": false,
     "start_time": "2023-02-27T09:55:35.794445",
     "status": "completed"
    },
    "tags": []
   },
   "outputs": [
    {
     "data": {
      "text/plain": [
       "(8378, 123)"
      ]
     },
     "execution_count": 6,
     "metadata": {},
     "output_type": "execute_result"
    }
   ],
   "source": [
    "dating.shape"
   ]
  },
  {
   "cell_type": "markdown",
   "id": "19424218",
   "metadata": {
    "papermill": {
     "duration": 0.019271,
     "end_time": "2023-02-27T09:55:35.869329",
     "exception": false,
     "start_time": "2023-02-27T09:55:35.850058",
     "status": "completed"
    },
    "tags": []
   },
   "source": [
    "<h1 style=\"font-family:monospace\">4. Data preprocessing</h1>\n",
    "<h2 style=\"font-family:monospace; margin-left: 25px\">4.1 Checking column data types</h2>"
   ]
  },
  {
   "cell_type": "code",
   "execution_count": 7,
   "id": "bfde1410",
   "metadata": {
    "execution": {
     "iopub.execute_input": "2023-02-27T09:55:35.911984Z",
     "iopub.status.busy": "2023-02-27T09:55:35.911418Z",
     "iopub.status.idle": "2023-02-27T09:55:35.924512Z",
     "shell.execute_reply": "2023-02-27T09:55:35.923221Z"
    },
    "papermill": {
     "duration": 0.038256,
     "end_time": "2023-02-27T09:55:35.927190",
     "exception": false,
     "start_time": "2023-02-27T09:55:35.888934",
     "status": "completed"
    },
    "tags": []
   },
   "outputs": [
    {
     "data": {
      "text/plain": [
       "has_null                            object\n",
       "wave                               float64\n",
       "gender                              object\n",
       "age                                float64\n",
       "age_o                              float64\n",
       "d_age                              float64\n",
       "d_d_age                             object\n",
       "race                                object\n",
       "race_o                              object\n",
       "samerace                            object\n",
       "importance_same_race               float64\n",
       "importance_same_religion           float64\n",
       "d_importance_same_race              object\n",
       "d_importance_same_religion          object\n",
       "field                               object\n",
       "pref_o_attractive                  float64\n",
       "pref_o_sincere                     float64\n",
       "pref_o_intelligence                float64\n",
       "pref_o_funny                       float64\n",
       "pref_o_ambitious                   float64\n",
       "pref_o_shared_interests            float64\n",
       "d_pref_o_attractive                 object\n",
       "d_pref_o_sincere                    object\n",
       "d_pref_o_intelligence               object\n",
       "d_pref_o_funny                      object\n",
       "d_pref_o_ambitious                  object\n",
       "d_pref_o_shared_interests           object\n",
       "attractive_o                       float64\n",
       "sinsere_o                          float64\n",
       "intelligence_o                     float64\n",
       "funny_o                            float64\n",
       "ambitous_o                         float64\n",
       "shared_interests_o                 float64\n",
       "d_attractive_o                      object\n",
       "d_sinsere_o                         object\n",
       "d_intelligence_o                    object\n",
       "d_funny_o                           object\n",
       "d_ambitous_o                        object\n",
       "d_shared_interests_o                object\n",
       "attractive_important               float64\n",
       "sincere_important                  float64\n",
       "intellicence_important             float64\n",
       "funny_important                    float64\n",
       "ambtition_important                float64\n",
       "shared_interests_important         float64\n",
       "d_attractive_important              object\n",
       "d_sincere_important                 object\n",
       "d_intellicence_important            object\n",
       "d_funny_important                   object\n",
       "d_ambtition_important               object\n",
       "d_shared_interests_important        object\n",
       "attractive                         float64\n",
       "sincere                            float64\n",
       "intelligence                       float64\n",
       "funny                              float64\n",
       "ambition                           float64\n",
       "d_attractive                        object\n",
       "d_sincere                           object\n",
       "d_intelligence                      object\n",
       "d_funny                             object\n",
       "d_ambition                          object\n",
       "attractive_partner                 float64\n",
       "sincere_partner                    float64\n",
       "intelligence_partner               float64\n",
       "funny_partner                      float64\n",
       "ambition_partner                   float64\n",
       "shared_interests_partner           float64\n",
       "d_attractive_partner                object\n",
       "d_sincere_partner                   object\n",
       "d_intelligence_partner              object\n",
       "d_funny_partner                     object\n",
       "d_ambition_partner                  object\n",
       "d_shared_interests_partner          object\n",
       "sports                             float64\n",
       "tvsports                           float64\n",
       "exercise                           float64\n",
       "dining                             float64\n",
       "museums                            float64\n",
       "art                                float64\n",
       "hiking                             float64\n",
       "gaming                             float64\n",
       "clubbing                           float64\n",
       "reading                            float64\n",
       "tv                                 float64\n",
       "theater                            float64\n",
       "movies                             float64\n",
       "concerts                           float64\n",
       "music                              float64\n",
       "shopping                           float64\n",
       "yoga                               float64\n",
       "d_sports                            object\n",
       "d_tvsports                          object\n",
       "d_exercise                          object\n",
       "d_dining                            object\n",
       "d_museums                           object\n",
       "d_art                               object\n",
       "d_hiking                            object\n",
       "d_gaming                            object\n",
       "d_clubbing                          object\n",
       "d_reading                           object\n",
       "d_tv                                object\n",
       "d_theater                           object\n",
       "d_movies                            object\n",
       "d_concerts                          object\n",
       "d_music                             object\n",
       "d_shopping                          object\n",
       "d_yoga                              object\n",
       "interests_correlate                float64\n",
       "d_interests_correlate               object\n",
       "expected_happy_with_sd_people      float64\n",
       "expected_num_interested_in_me      float64\n",
       "expected_num_matches               float64\n",
       "d_expected_happy_with_sd_people     object\n",
       "d_expected_num_interested_in_me     object\n",
       "d_expected_num_matches              object\n",
       "like                               float64\n",
       "guess_prob_liked                   float64\n",
       "d_like                              object\n",
       "d_guess_prob_liked                  object\n",
       "met                                float64\n",
       "decision                            object\n",
       "decision_o                          object\n",
       "match                               object\n",
       "dtype: object"
      ]
     },
     "execution_count": 7,
     "metadata": {},
     "output_type": "execute_result"
    }
   ],
   "source": [
    "dating.dtypes"
   ]
  },
  {
   "cell_type": "markdown",
   "id": "253de911",
   "metadata": {
    "papermill": {
     "duration": 0.019277,
     "end_time": "2023-02-27T09:55:35.966288",
     "exception": false,
     "start_time": "2023-02-27T09:55:35.947011",
     "status": "completed"
    },
    "tags": []
   },
   "source": [
    "<h2 style=\"font-family:monospace; margin-left: 25px\">4.2 Removing unwanted characters</h2>\n",
    "<p style = \"font-family:georgia, serif; font-size:17px\">\n",
    "All string columns have an unwanted character 'b' and are enclosed by single quotes. We will remove these characters from the columns.</p>"
   ]
  },
  {
   "cell_type": "code",
   "execution_count": 8,
   "id": "cb9dc43c",
   "metadata": {
    "execution": {
     "iopub.execute_input": "2023-02-27T09:55:36.010054Z",
     "iopub.status.busy": "2023-02-27T09:55:36.008611Z",
     "iopub.status.idle": "2023-02-27T09:55:36.128398Z",
     "shell.execute_reply": "2023-02-27T09:55:36.127267Z"
    },
    "papermill": {
     "duration": 0.145426,
     "end_time": "2023-02-27T09:55:36.131559",
     "exception": false,
     "start_time": "2023-02-27T09:55:35.986133",
     "status": "completed"
    },
    "tags": []
   },
   "outputs": [
    {
     "data": {
      "text/html": [
       "<div>\n",
       "<style scoped>\n",
       "    .dataframe tbody tr th:only-of-type {\n",
       "        vertical-align: middle;\n",
       "    }\n",
       "\n",
       "    .dataframe tbody tr th {\n",
       "        vertical-align: top;\n",
       "    }\n",
       "\n",
       "    .dataframe thead th {\n",
       "        text-align: right;\n",
       "    }\n",
       "</style>\n",
       "<table border=\"1\" class=\"dataframe\">\n",
       "  <thead>\n",
       "    <tr style=\"text-align: right;\">\n",
       "      <th></th>\n",
       "      <th>has_null</th>\n",
       "      <th>wave</th>\n",
       "      <th>gender</th>\n",
       "      <th>age</th>\n",
       "      <th>age_o</th>\n",
       "      <th>d_age</th>\n",
       "      <th>d_d_age</th>\n",
       "      <th>race</th>\n",
       "      <th>race_o</th>\n",
       "      <th>samerace</th>\n",
       "      <th>importance_same_race</th>\n",
       "      <th>importance_same_religion</th>\n",
       "      <th>d_importance_same_race</th>\n",
       "      <th>d_importance_same_religion</th>\n",
       "      <th>field</th>\n",
       "      <th>pref_o_attractive</th>\n",
       "      <th>pref_o_sincere</th>\n",
       "      <th>pref_o_intelligence</th>\n",
       "      <th>pref_o_funny</th>\n",
       "      <th>pref_o_ambitious</th>\n",
       "      <th>pref_o_shared_interests</th>\n",
       "      <th>d_pref_o_attractive</th>\n",
       "      <th>d_pref_o_sincere</th>\n",
       "      <th>d_pref_o_intelligence</th>\n",
       "      <th>d_pref_o_funny</th>\n",
       "      <th>d_pref_o_ambitious</th>\n",
       "      <th>d_pref_o_shared_interests</th>\n",
       "      <th>attractive_o</th>\n",
       "      <th>sinsere_o</th>\n",
       "      <th>intelligence_o</th>\n",
       "      <th>funny_o</th>\n",
       "      <th>ambitous_o</th>\n",
       "      <th>shared_interests_o</th>\n",
       "      <th>d_attractive_o</th>\n",
       "      <th>d_sinsere_o</th>\n",
       "      <th>d_intelligence_o</th>\n",
       "      <th>d_funny_o</th>\n",
       "      <th>d_ambitous_o</th>\n",
       "      <th>d_shared_interests_o</th>\n",
       "      <th>attractive_important</th>\n",
       "      <th>sincere_important</th>\n",
       "      <th>intellicence_important</th>\n",
       "      <th>funny_important</th>\n",
       "      <th>ambtition_important</th>\n",
       "      <th>shared_interests_important</th>\n",
       "      <th>d_attractive_important</th>\n",
       "      <th>d_sincere_important</th>\n",
       "      <th>d_intellicence_important</th>\n",
       "      <th>d_funny_important</th>\n",
       "      <th>d_ambtition_important</th>\n",
       "      <th>d_shared_interests_important</th>\n",
       "      <th>attractive</th>\n",
       "      <th>sincere</th>\n",
       "      <th>intelligence</th>\n",
       "      <th>funny</th>\n",
       "      <th>ambition</th>\n",
       "      <th>d_attractive</th>\n",
       "      <th>d_sincere</th>\n",
       "      <th>d_intelligence</th>\n",
       "      <th>d_funny</th>\n",
       "      <th>d_ambition</th>\n",
       "      <th>attractive_partner</th>\n",
       "      <th>sincere_partner</th>\n",
       "      <th>intelligence_partner</th>\n",
       "      <th>funny_partner</th>\n",
       "      <th>ambition_partner</th>\n",
       "      <th>shared_interests_partner</th>\n",
       "      <th>d_attractive_partner</th>\n",
       "      <th>d_sincere_partner</th>\n",
       "      <th>d_intelligence_partner</th>\n",
       "      <th>d_funny_partner</th>\n",
       "      <th>d_ambition_partner</th>\n",
       "      <th>d_shared_interests_partner</th>\n",
       "      <th>sports</th>\n",
       "      <th>tvsports</th>\n",
       "      <th>exercise</th>\n",
       "      <th>dining</th>\n",
       "      <th>museums</th>\n",
       "      <th>art</th>\n",
       "      <th>hiking</th>\n",
       "      <th>gaming</th>\n",
       "      <th>clubbing</th>\n",
       "      <th>reading</th>\n",
       "      <th>tv</th>\n",
       "      <th>theater</th>\n",
       "      <th>movies</th>\n",
       "      <th>concerts</th>\n",
       "      <th>music</th>\n",
       "      <th>shopping</th>\n",
       "      <th>yoga</th>\n",
       "      <th>d_sports</th>\n",
       "      <th>d_tvsports</th>\n",
       "      <th>d_exercise</th>\n",
       "      <th>d_dining</th>\n",
       "      <th>d_museums</th>\n",
       "      <th>d_art</th>\n",
       "      <th>d_hiking</th>\n",
       "      <th>d_gaming</th>\n",
       "      <th>d_clubbing</th>\n",
       "      <th>d_reading</th>\n",
       "      <th>d_tv</th>\n",
       "      <th>d_theater</th>\n",
       "      <th>d_movies</th>\n",
       "      <th>d_concerts</th>\n",
       "      <th>d_music</th>\n",
       "      <th>d_shopping</th>\n",
       "      <th>d_yoga</th>\n",
       "      <th>interests_correlate</th>\n",
       "      <th>d_interests_correlate</th>\n",
       "      <th>expected_happy_with_sd_people</th>\n",
       "      <th>expected_num_interested_in_me</th>\n",
       "      <th>expected_num_matches</th>\n",
       "      <th>d_expected_happy_with_sd_people</th>\n",
       "      <th>d_expected_num_interested_in_me</th>\n",
       "      <th>d_expected_num_matches</th>\n",
       "      <th>like</th>\n",
       "      <th>guess_prob_liked</th>\n",
       "      <th>d_like</th>\n",
       "      <th>d_guess_prob_liked</th>\n",
       "      <th>met</th>\n",
       "      <th>decision</th>\n",
       "      <th>decision_o</th>\n",
       "      <th>match</th>\n",
       "    </tr>\n",
       "  </thead>\n",
       "  <tbody>\n",
       "    <tr>\n",
       "      <th>0</th>\n",
       "      <td>b''</td>\n",
       "      <td>1.0</td>\n",
       "      <td>b'female'</td>\n",
       "      <td>21.0</td>\n",
       "      <td>27.0</td>\n",
       "      <td>6.0</td>\n",
       "      <td>b'[4-6]'</td>\n",
       "      <td>b'Asian/Pacific Islander/Asian-American'</td>\n",
       "      <td>b'European/Caucasian-American'</td>\n",
       "      <td>b'0'</td>\n",
       "      <td>2.0</td>\n",
       "      <td>4.0</td>\n",
       "      <td>b'[2-5]'</td>\n",
       "      <td>b'[2-5]'</td>\n",
       "      <td>b'Law'</td>\n",
       "      <td>35.0</td>\n",
       "      <td>20.0</td>\n",
       "      <td>20.0</td>\n",
       "      <td>20.0</td>\n",
       "      <td>0.0</td>\n",
       "      <td>5.0</td>\n",
       "      <td>b'[21-100]'</td>\n",
       "      <td>b'[16-20]'</td>\n",
       "      <td>b'[16-20]'</td>\n",
       "      <td>b'[16-20]'</td>\n",
       "      <td>b'[0-15]'</td>\n",
       "      <td>b'[0-15]'</td>\n",
       "      <td>6.0</td>\n",
       "      <td>8.0</td>\n",
       "      <td>8.0</td>\n",
       "      <td>8.0</td>\n",
       "      <td>8.0</td>\n",
       "      <td>6.0</td>\n",
       "      <td>b'[6-8]'</td>\n",
       "      <td>b'[6-8]'</td>\n",
       "      <td>b'[6-8]'</td>\n",
       "      <td>b'[6-8]'</td>\n",
       "      <td>b'[6-8]'</td>\n",
       "      <td>b'[6-8]'</td>\n",
       "      <td>15.0</td>\n",
       "      <td>20.0</td>\n",
       "      <td>20.0</td>\n",
       "      <td>15.0</td>\n",
       "      <td>15.0</td>\n",
       "      <td>15.0</td>\n",
       "      <td>b'[0-15]'</td>\n",
       "      <td>b'[16-20]'</td>\n",
       "      <td>b'[16-20]'</td>\n",
       "      <td>b'[0-15]'</td>\n",
       "      <td>b'[0-15]'</td>\n",
       "      <td>b'[0-15]'</td>\n",
       "      <td>6.0</td>\n",
       "      <td>8.0</td>\n",
       "      <td>8.0</td>\n",
       "      <td>8.0</td>\n",
       "      <td>7.0</td>\n",
       "      <td>b'[6-8]'</td>\n",
       "      <td>b'[6-8]'</td>\n",
       "      <td>b'[6-8]'</td>\n",
       "      <td>b'[6-8]'</td>\n",
       "      <td>b'[6-8]'</td>\n",
       "      <td>6.0</td>\n",
       "      <td>9.0</td>\n",
       "      <td>7.0</td>\n",
       "      <td>7.0</td>\n",
       "      <td>6.0</td>\n",
       "      <td>5.0</td>\n",
       "      <td>b'[6-8]'</td>\n",
       "      <td>b'[9-10]'</td>\n",
       "      <td>b'[6-8]'</td>\n",
       "      <td>b'[6-8]'</td>\n",
       "      <td>b'[6-8]'</td>\n",
       "      <td>b'[0-5]'</td>\n",
       "      <td>9.0</td>\n",
       "      <td>2.0</td>\n",
       "      <td>8.0</td>\n",
       "      <td>9.0</td>\n",
       "      <td>1.0</td>\n",
       "      <td>1.0</td>\n",
       "      <td>5.0</td>\n",
       "      <td>1.0</td>\n",
       "      <td>5.0</td>\n",
       "      <td>6.0</td>\n",
       "      <td>9.0</td>\n",
       "      <td>1.0</td>\n",
       "      <td>10.0</td>\n",
       "      <td>10.0</td>\n",
       "      <td>9.0</td>\n",
       "      <td>8.0</td>\n",
       "      <td>1.0</td>\n",
       "      <td>b'[9-10]'</td>\n",
       "      <td>b'[0-5]'</td>\n",
       "      <td>b'[6-8]'</td>\n",
       "      <td>b'[9-10]'</td>\n",
       "      <td>b'[0-5]'</td>\n",
       "      <td>b'[0-5]'</td>\n",
       "      <td>b'[0-5]'</td>\n",
       "      <td>b'[0-5]'</td>\n",
       "      <td>b'[0-5]'</td>\n",
       "      <td>b'[6-8]'</td>\n",
       "      <td>b'[9-10]'</td>\n",
       "      <td>b'[0-5]'</td>\n",
       "      <td>b'[9-10]'</td>\n",
       "      <td>b'[9-10]'</td>\n",
       "      <td>b'[9-10]'</td>\n",
       "      <td>b'[6-8]'</td>\n",
       "      <td>b'[0-5]'</td>\n",
       "      <td>0.14</td>\n",
       "      <td>b'[0-0.33]'</td>\n",
       "      <td>3.0</td>\n",
       "      <td>2.0</td>\n",
       "      <td>4.0</td>\n",
       "      <td>b'[0-4]'</td>\n",
       "      <td>b'[0-3]'</td>\n",
       "      <td>b'[3-5]'</td>\n",
       "      <td>7.0</td>\n",
       "      <td>6.0</td>\n",
       "      <td>b'[6-8]'</td>\n",
       "      <td>b'[5-6]'</td>\n",
       "      <td>0.0</td>\n",
       "      <td>b'1'</td>\n",
       "      <td>b'0'</td>\n",
       "      <td>b'0'</td>\n",
       "    </tr>\n",
       "    <tr>\n",
       "      <th>1</th>\n",
       "      <td>b''</td>\n",
       "      <td>1.0</td>\n",
       "      <td>b'female'</td>\n",
       "      <td>21.0</td>\n",
       "      <td>22.0</td>\n",
       "      <td>1.0</td>\n",
       "      <td>b'[0-1]'</td>\n",
       "      <td>b'Asian/Pacific Islander/Asian-American'</td>\n",
       "      <td>b'European/Caucasian-American'</td>\n",
       "      <td>b'0'</td>\n",
       "      <td>2.0</td>\n",
       "      <td>4.0</td>\n",
       "      <td>b'[2-5]'</td>\n",
       "      <td>b'[2-5]'</td>\n",
       "      <td>b'Law'</td>\n",
       "      <td>60.0</td>\n",
       "      <td>0.0</td>\n",
       "      <td>0.0</td>\n",
       "      <td>40.0</td>\n",
       "      <td>0.0</td>\n",
       "      <td>0.0</td>\n",
       "      <td>b'[21-100]'</td>\n",
       "      <td>b'[0-15]'</td>\n",
       "      <td>b'[0-15]'</td>\n",
       "      <td>b'[21-100]'</td>\n",
       "      <td>b'[0-15]'</td>\n",
       "      <td>b'[0-15]'</td>\n",
       "      <td>7.0</td>\n",
       "      <td>8.0</td>\n",
       "      <td>10.0</td>\n",
       "      <td>7.0</td>\n",
       "      <td>7.0</td>\n",
       "      <td>5.0</td>\n",
       "      <td>b'[6-8]'</td>\n",
       "      <td>b'[6-8]'</td>\n",
       "      <td>b'[9-10]'</td>\n",
       "      <td>b'[6-8]'</td>\n",
       "      <td>b'[6-8]'</td>\n",
       "      <td>b'[0-5]'</td>\n",
       "      <td>15.0</td>\n",
       "      <td>20.0</td>\n",
       "      <td>20.0</td>\n",
       "      <td>15.0</td>\n",
       "      <td>15.0</td>\n",
       "      <td>15.0</td>\n",
       "      <td>b'[0-15]'</td>\n",
       "      <td>b'[16-20]'</td>\n",
       "      <td>b'[16-20]'</td>\n",
       "      <td>b'[0-15]'</td>\n",
       "      <td>b'[0-15]'</td>\n",
       "      <td>b'[0-15]'</td>\n",
       "      <td>6.0</td>\n",
       "      <td>8.0</td>\n",
       "      <td>8.0</td>\n",
       "      <td>8.0</td>\n",
       "      <td>7.0</td>\n",
       "      <td>b'[6-8]'</td>\n",
       "      <td>b'[6-8]'</td>\n",
       "      <td>b'[6-8]'</td>\n",
       "      <td>b'[6-8]'</td>\n",
       "      <td>b'[6-8]'</td>\n",
       "      <td>7.0</td>\n",
       "      <td>8.0</td>\n",
       "      <td>7.0</td>\n",
       "      <td>8.0</td>\n",
       "      <td>5.0</td>\n",
       "      <td>6.0</td>\n",
       "      <td>b'[6-8]'</td>\n",
       "      <td>b'[6-8]'</td>\n",
       "      <td>b'[6-8]'</td>\n",
       "      <td>b'[6-8]'</td>\n",
       "      <td>b'[0-5]'</td>\n",
       "      <td>b'[6-8]'</td>\n",
       "      <td>9.0</td>\n",
       "      <td>2.0</td>\n",
       "      <td>8.0</td>\n",
       "      <td>9.0</td>\n",
       "      <td>1.0</td>\n",
       "      <td>1.0</td>\n",
       "      <td>5.0</td>\n",
       "      <td>1.0</td>\n",
       "      <td>5.0</td>\n",
       "      <td>6.0</td>\n",
       "      <td>9.0</td>\n",
       "      <td>1.0</td>\n",
       "      <td>10.0</td>\n",
       "      <td>10.0</td>\n",
       "      <td>9.0</td>\n",
       "      <td>8.0</td>\n",
       "      <td>1.0</td>\n",
       "      <td>b'[9-10]'</td>\n",
       "      <td>b'[0-5]'</td>\n",
       "      <td>b'[6-8]'</td>\n",
       "      <td>b'[9-10]'</td>\n",
       "      <td>b'[0-5]'</td>\n",
       "      <td>b'[0-5]'</td>\n",
       "      <td>b'[0-5]'</td>\n",
       "      <td>b'[0-5]'</td>\n",
       "      <td>b'[0-5]'</td>\n",
       "      <td>b'[6-8]'</td>\n",
       "      <td>b'[9-10]'</td>\n",
       "      <td>b'[0-5]'</td>\n",
       "      <td>b'[9-10]'</td>\n",
       "      <td>b'[9-10]'</td>\n",
       "      <td>b'[9-10]'</td>\n",
       "      <td>b'[6-8]'</td>\n",
       "      <td>b'[0-5]'</td>\n",
       "      <td>0.54</td>\n",
       "      <td>b'[0.33-1]'</td>\n",
       "      <td>3.0</td>\n",
       "      <td>2.0</td>\n",
       "      <td>4.0</td>\n",
       "      <td>b'[0-4]'</td>\n",
       "      <td>b'[0-3]'</td>\n",
       "      <td>b'[3-5]'</td>\n",
       "      <td>7.0</td>\n",
       "      <td>5.0</td>\n",
       "      <td>b'[6-8]'</td>\n",
       "      <td>b'[5-6]'</td>\n",
       "      <td>1.0</td>\n",
       "      <td>b'1'</td>\n",
       "      <td>b'0'</td>\n",
       "      <td>b'0'</td>\n",
       "    </tr>\n",
       "    <tr>\n",
       "      <th>2</th>\n",
       "      <td>b''</td>\n",
       "      <td>1.0</td>\n",
       "      <td>b'female'</td>\n",
       "      <td>21.0</td>\n",
       "      <td>22.0</td>\n",
       "      <td>1.0</td>\n",
       "      <td>b'[0-1]'</td>\n",
       "      <td>b'Asian/Pacific Islander/Asian-American'</td>\n",
       "      <td>b'Asian/Pacific Islander/Asian-American'</td>\n",
       "      <td>b'1'</td>\n",
       "      <td>2.0</td>\n",
       "      <td>4.0</td>\n",
       "      <td>b'[2-5]'</td>\n",
       "      <td>b'[2-5]'</td>\n",
       "      <td>b'Law'</td>\n",
       "      <td>19.0</td>\n",
       "      <td>18.0</td>\n",
       "      <td>19.0</td>\n",
       "      <td>18.0</td>\n",
       "      <td>14.0</td>\n",
       "      <td>12.0</td>\n",
       "      <td>b'[16-20]'</td>\n",
       "      <td>b'[16-20]'</td>\n",
       "      <td>b'[16-20]'</td>\n",
       "      <td>b'[16-20]'</td>\n",
       "      <td>b'[0-15]'</td>\n",
       "      <td>b'[0-15]'</td>\n",
       "      <td>10.0</td>\n",
       "      <td>10.0</td>\n",
       "      <td>10.0</td>\n",
       "      <td>10.0</td>\n",
       "      <td>10.0</td>\n",
       "      <td>10.0</td>\n",
       "      <td>b'[9-10]'</td>\n",
       "      <td>b'[9-10]'</td>\n",
       "      <td>b'[9-10]'</td>\n",
       "      <td>b'[9-10]'</td>\n",
       "      <td>b'[9-10]'</td>\n",
       "      <td>b'[9-10]'</td>\n",
       "      <td>15.0</td>\n",
       "      <td>20.0</td>\n",
       "      <td>20.0</td>\n",
       "      <td>15.0</td>\n",
       "      <td>15.0</td>\n",
       "      <td>15.0</td>\n",
       "      <td>b'[0-15]'</td>\n",
       "      <td>b'[16-20]'</td>\n",
       "      <td>b'[16-20]'</td>\n",
       "      <td>b'[0-15]'</td>\n",
       "      <td>b'[0-15]'</td>\n",
       "      <td>b'[0-15]'</td>\n",
       "      <td>6.0</td>\n",
       "      <td>8.0</td>\n",
       "      <td>8.0</td>\n",
       "      <td>8.0</td>\n",
       "      <td>7.0</td>\n",
       "      <td>b'[6-8]'</td>\n",
       "      <td>b'[6-8]'</td>\n",
       "      <td>b'[6-8]'</td>\n",
       "      <td>b'[6-8]'</td>\n",
       "      <td>b'[6-8]'</td>\n",
       "      <td>5.0</td>\n",
       "      <td>8.0</td>\n",
       "      <td>9.0</td>\n",
       "      <td>8.0</td>\n",
       "      <td>5.0</td>\n",
       "      <td>7.0</td>\n",
       "      <td>b'[0-5]'</td>\n",
       "      <td>b'[6-8]'</td>\n",
       "      <td>b'[9-10]'</td>\n",
       "      <td>b'[6-8]'</td>\n",
       "      <td>b'[0-5]'</td>\n",
       "      <td>b'[6-8]'</td>\n",
       "      <td>9.0</td>\n",
       "      <td>2.0</td>\n",
       "      <td>8.0</td>\n",
       "      <td>9.0</td>\n",
       "      <td>1.0</td>\n",
       "      <td>1.0</td>\n",
       "      <td>5.0</td>\n",
       "      <td>1.0</td>\n",
       "      <td>5.0</td>\n",
       "      <td>6.0</td>\n",
       "      <td>9.0</td>\n",
       "      <td>1.0</td>\n",
       "      <td>10.0</td>\n",
       "      <td>10.0</td>\n",
       "      <td>9.0</td>\n",
       "      <td>8.0</td>\n",
       "      <td>1.0</td>\n",
       "      <td>b'[9-10]'</td>\n",
       "      <td>b'[0-5]'</td>\n",
       "      <td>b'[6-8]'</td>\n",
       "      <td>b'[9-10]'</td>\n",
       "      <td>b'[0-5]'</td>\n",
       "      <td>b'[0-5]'</td>\n",
       "      <td>b'[0-5]'</td>\n",
       "      <td>b'[0-5]'</td>\n",
       "      <td>b'[0-5]'</td>\n",
       "      <td>b'[6-8]'</td>\n",
       "      <td>b'[9-10]'</td>\n",
       "      <td>b'[0-5]'</td>\n",
       "      <td>b'[9-10]'</td>\n",
       "      <td>b'[9-10]'</td>\n",
       "      <td>b'[9-10]'</td>\n",
       "      <td>b'[6-8]'</td>\n",
       "      <td>b'[0-5]'</td>\n",
       "      <td>0.16</td>\n",
       "      <td>b'[0-0.33]'</td>\n",
       "      <td>3.0</td>\n",
       "      <td>2.0</td>\n",
       "      <td>4.0</td>\n",
       "      <td>b'[0-4]'</td>\n",
       "      <td>b'[0-3]'</td>\n",
       "      <td>b'[3-5]'</td>\n",
       "      <td>7.0</td>\n",
       "      <td>NaN</td>\n",
       "      <td>b'[6-8]'</td>\n",
       "      <td>b'[0-4]'</td>\n",
       "      <td>1.0</td>\n",
       "      <td>b'1'</td>\n",
       "      <td>b'1'</td>\n",
       "      <td>b'1'</td>\n",
       "    </tr>\n",
       "  </tbody>\n",
       "</table>\n",
       "</div>"
      ],
      "text/plain": [
       "  has_null  wave     gender   age  age_o  d_age   d_d_age  \\\n",
       "0      b''   1.0  b'female'  21.0   27.0    6.0  b'[4-6]'   \n",
       "1      b''   1.0  b'female'  21.0   22.0    1.0  b'[0-1]'   \n",
       "2      b''   1.0  b'female'  21.0   22.0    1.0  b'[0-1]'   \n",
       "\n",
       "                                       race  \\\n",
       "0  b'Asian/Pacific Islander/Asian-American'   \n",
       "1  b'Asian/Pacific Islander/Asian-American'   \n",
       "2  b'Asian/Pacific Islander/Asian-American'   \n",
       "\n",
       "                                     race_o samerace  importance_same_race  \\\n",
       "0            b'European/Caucasian-American'     b'0'                   2.0   \n",
       "1            b'European/Caucasian-American'     b'0'                   2.0   \n",
       "2  b'Asian/Pacific Islander/Asian-American'     b'1'                   2.0   \n",
       "\n",
       "   importance_same_religion d_importance_same_race d_importance_same_religion  \\\n",
       "0                       4.0               b'[2-5]'                   b'[2-5]'   \n",
       "1                       4.0               b'[2-5]'                   b'[2-5]'   \n",
       "2                       4.0               b'[2-5]'                   b'[2-5]'   \n",
       "\n",
       "    field  pref_o_attractive  pref_o_sincere  pref_o_intelligence  \\\n",
       "0  b'Law'               35.0            20.0                 20.0   \n",
       "1  b'Law'               60.0             0.0                  0.0   \n",
       "2  b'Law'               19.0            18.0                 19.0   \n",
       "\n",
       "   pref_o_funny  pref_o_ambitious  pref_o_shared_interests  \\\n",
       "0          20.0               0.0                      5.0   \n",
       "1          40.0               0.0                      0.0   \n",
       "2          18.0              14.0                     12.0   \n",
       "\n",
       "  d_pref_o_attractive d_pref_o_sincere d_pref_o_intelligence d_pref_o_funny  \\\n",
       "0         b'[21-100]'       b'[16-20]'            b'[16-20]'     b'[16-20]'   \n",
       "1         b'[21-100]'        b'[0-15]'             b'[0-15]'    b'[21-100]'   \n",
       "2          b'[16-20]'       b'[16-20]'            b'[16-20]'     b'[16-20]'   \n",
       "\n",
       "  d_pref_o_ambitious d_pref_o_shared_interests  attractive_o  sinsere_o  \\\n",
       "0          b'[0-15]'                 b'[0-15]'           6.0        8.0   \n",
       "1          b'[0-15]'                 b'[0-15]'           7.0        8.0   \n",
       "2          b'[0-15]'                 b'[0-15]'          10.0       10.0   \n",
       "\n",
       "   intelligence_o  funny_o  ambitous_o  shared_interests_o d_attractive_o  \\\n",
       "0             8.0      8.0         8.0                 6.0       b'[6-8]'   \n",
       "1            10.0      7.0         7.0                 5.0       b'[6-8]'   \n",
       "2            10.0     10.0        10.0                10.0      b'[9-10]'   \n",
       "\n",
       "  d_sinsere_o d_intelligence_o  d_funny_o d_ambitous_o d_shared_interests_o  \\\n",
       "0    b'[6-8]'         b'[6-8]'   b'[6-8]'     b'[6-8]'             b'[6-8]'   \n",
       "1    b'[6-8]'        b'[9-10]'   b'[6-8]'     b'[6-8]'             b'[0-5]'   \n",
       "2   b'[9-10]'        b'[9-10]'  b'[9-10]'    b'[9-10]'            b'[9-10]'   \n",
       "\n",
       "   attractive_important  sincere_important  intellicence_important  \\\n",
       "0                  15.0               20.0                    20.0   \n",
       "1                  15.0               20.0                    20.0   \n",
       "2                  15.0               20.0                    20.0   \n",
       "\n",
       "   funny_important  ambtition_important  shared_interests_important  \\\n",
       "0             15.0                 15.0                        15.0   \n",
       "1             15.0                 15.0                        15.0   \n",
       "2             15.0                 15.0                        15.0   \n",
       "\n",
       "  d_attractive_important d_sincere_important d_intellicence_important  \\\n",
       "0              b'[0-15]'          b'[16-20]'               b'[16-20]'   \n",
       "1              b'[0-15]'          b'[16-20]'               b'[16-20]'   \n",
       "2              b'[0-15]'          b'[16-20]'               b'[16-20]'   \n",
       "\n",
       "  d_funny_important d_ambtition_important d_shared_interests_important  \\\n",
       "0         b'[0-15]'             b'[0-15]'                    b'[0-15]'   \n",
       "1         b'[0-15]'             b'[0-15]'                    b'[0-15]'   \n",
       "2         b'[0-15]'             b'[0-15]'                    b'[0-15]'   \n",
       "\n",
       "   attractive  sincere  intelligence  funny  ambition d_attractive d_sincere  \\\n",
       "0         6.0      8.0           8.0    8.0       7.0     b'[6-8]'  b'[6-8]'   \n",
       "1         6.0      8.0           8.0    8.0       7.0     b'[6-8]'  b'[6-8]'   \n",
       "2         6.0      8.0           8.0    8.0       7.0     b'[6-8]'  b'[6-8]'   \n",
       "\n",
       "  d_intelligence   d_funny d_ambition  attractive_partner  sincere_partner  \\\n",
       "0       b'[6-8]'  b'[6-8]'   b'[6-8]'                 6.0              9.0   \n",
       "1       b'[6-8]'  b'[6-8]'   b'[6-8]'                 7.0              8.0   \n",
       "2       b'[6-8]'  b'[6-8]'   b'[6-8]'                 5.0              8.0   \n",
       "\n",
       "   intelligence_partner  funny_partner  ambition_partner  \\\n",
       "0                   7.0            7.0               6.0   \n",
       "1                   7.0            8.0               5.0   \n",
       "2                   9.0            8.0               5.0   \n",
       "\n",
       "   shared_interests_partner d_attractive_partner d_sincere_partner  \\\n",
       "0                       5.0             b'[6-8]'         b'[9-10]'   \n",
       "1                       6.0             b'[6-8]'          b'[6-8]'   \n",
       "2                       7.0             b'[0-5]'          b'[6-8]'   \n",
       "\n",
       "  d_intelligence_partner d_funny_partner d_ambition_partner  \\\n",
       "0               b'[6-8]'        b'[6-8]'           b'[6-8]'   \n",
       "1               b'[6-8]'        b'[6-8]'           b'[0-5]'   \n",
       "2              b'[9-10]'        b'[6-8]'           b'[0-5]'   \n",
       "\n",
       "  d_shared_interests_partner  sports  tvsports  exercise  dining  museums  \\\n",
       "0                   b'[0-5]'     9.0       2.0       8.0     9.0      1.0   \n",
       "1                   b'[6-8]'     9.0       2.0       8.0     9.0      1.0   \n",
       "2                   b'[6-8]'     9.0       2.0       8.0     9.0      1.0   \n",
       "\n",
       "   art  hiking  gaming  clubbing  reading   tv  theater  movies  concerts  \\\n",
       "0  1.0     5.0     1.0       5.0      6.0  9.0      1.0    10.0      10.0   \n",
       "1  1.0     5.0     1.0       5.0      6.0  9.0      1.0    10.0      10.0   \n",
       "2  1.0     5.0     1.0       5.0      6.0  9.0      1.0    10.0      10.0   \n",
       "\n",
       "   music  shopping  yoga   d_sports d_tvsports d_exercise   d_dining  \\\n",
       "0    9.0       8.0   1.0  b'[9-10]'   b'[0-5]'   b'[6-8]'  b'[9-10]'   \n",
       "1    9.0       8.0   1.0  b'[9-10]'   b'[0-5]'   b'[6-8]'  b'[9-10]'   \n",
       "2    9.0       8.0   1.0  b'[9-10]'   b'[0-5]'   b'[6-8]'  b'[9-10]'   \n",
       "\n",
       "  d_museums     d_art  d_hiking  d_gaming d_clubbing d_reading       d_tv  \\\n",
       "0  b'[0-5]'  b'[0-5]'  b'[0-5]'  b'[0-5]'   b'[0-5]'  b'[6-8]'  b'[9-10]'   \n",
       "1  b'[0-5]'  b'[0-5]'  b'[0-5]'  b'[0-5]'   b'[0-5]'  b'[6-8]'  b'[9-10]'   \n",
       "2  b'[0-5]'  b'[0-5]'  b'[0-5]'  b'[0-5]'   b'[0-5]'  b'[6-8]'  b'[9-10]'   \n",
       "\n",
       "  d_theater   d_movies d_concerts    d_music d_shopping    d_yoga  \\\n",
       "0  b'[0-5]'  b'[9-10]'  b'[9-10]'  b'[9-10]'   b'[6-8]'  b'[0-5]'   \n",
       "1  b'[0-5]'  b'[9-10]'  b'[9-10]'  b'[9-10]'   b'[6-8]'  b'[0-5]'   \n",
       "2  b'[0-5]'  b'[9-10]'  b'[9-10]'  b'[9-10]'   b'[6-8]'  b'[0-5]'   \n",
       "\n",
       "   interests_correlate d_interests_correlate  expected_happy_with_sd_people  \\\n",
       "0                 0.14           b'[0-0.33]'                            3.0   \n",
       "1                 0.54           b'[0.33-1]'                            3.0   \n",
       "2                 0.16           b'[0-0.33]'                            3.0   \n",
       "\n",
       "   expected_num_interested_in_me  expected_num_matches  \\\n",
       "0                            2.0                   4.0   \n",
       "1                            2.0                   4.0   \n",
       "2                            2.0                   4.0   \n",
       "\n",
       "  d_expected_happy_with_sd_people d_expected_num_interested_in_me  \\\n",
       "0                        b'[0-4]'                        b'[0-3]'   \n",
       "1                        b'[0-4]'                        b'[0-3]'   \n",
       "2                        b'[0-4]'                        b'[0-3]'   \n",
       "\n",
       "  d_expected_num_matches  like  guess_prob_liked    d_like d_guess_prob_liked  \\\n",
       "0               b'[3-5]'   7.0               6.0  b'[6-8]'           b'[5-6]'   \n",
       "1               b'[3-5]'   7.0               5.0  b'[6-8]'           b'[5-6]'   \n",
       "2               b'[3-5]'   7.0               NaN  b'[6-8]'           b'[0-4]'   \n",
       "\n",
       "   met decision decision_o match  \n",
       "0  0.0     b'1'       b'0'  b'0'  \n",
       "1  1.0     b'1'       b'0'  b'0'  \n",
       "2  1.0     b'1'       b'1'  b'1'  "
      ]
     },
     "execution_count": 8,
     "metadata": {},
     "output_type": "execute_result"
    }
   ],
   "source": [
    "dating.head(3)"
   ]
  },
  {
   "cell_type": "code",
   "execution_count": 9,
   "id": "a881a828",
   "metadata": {
    "execution": {
     "iopub.execute_input": "2023-02-27T09:55:36.179044Z",
     "iopub.status.busy": "2023-02-27T09:55:36.177545Z",
     "iopub.status.idle": "2023-02-27T09:55:36.683241Z",
     "shell.execute_reply": "2023-02-27T09:55:36.681942Z"
    },
    "papermill": {
     "duration": 0.532814,
     "end_time": "2023-02-27T09:55:36.686068",
     "exception": false,
     "start_time": "2023-02-27T09:55:36.153254",
     "status": "completed"
    },
    "tags": []
   },
   "outputs": [
    {
     "data": {
      "text/html": [
       "<div>\n",
       "<style scoped>\n",
       "    .dataframe tbody tr th:only-of-type {\n",
       "        vertical-align: middle;\n",
       "    }\n",
       "\n",
       "    .dataframe tbody tr th {\n",
       "        vertical-align: top;\n",
       "    }\n",
       "\n",
       "    .dataframe thead th {\n",
       "        text-align: right;\n",
       "    }\n",
       "</style>\n",
       "<table border=\"1\" class=\"dataframe\">\n",
       "  <thead>\n",
       "    <tr style=\"text-align: right;\">\n",
       "      <th></th>\n",
       "      <th>has_null</th>\n",
       "      <th>gender</th>\n",
       "      <th>d_d_age</th>\n",
       "      <th>race</th>\n",
       "      <th>race_o</th>\n",
       "      <th>samerace</th>\n",
       "      <th>d_importance_same_race</th>\n",
       "      <th>d_importance_same_religion</th>\n",
       "      <th>field</th>\n",
       "      <th>d_pref_o_attractive</th>\n",
       "      <th>d_pref_o_sincere</th>\n",
       "      <th>d_pref_o_intelligence</th>\n",
       "      <th>d_pref_o_funny</th>\n",
       "      <th>d_pref_o_ambitious</th>\n",
       "      <th>d_pref_o_shared_interests</th>\n",
       "      <th>d_attractive_o</th>\n",
       "      <th>d_sinsere_o</th>\n",
       "      <th>d_intelligence_o</th>\n",
       "      <th>d_funny_o</th>\n",
       "      <th>d_ambitous_o</th>\n",
       "      <th>d_shared_interests_o</th>\n",
       "      <th>d_attractive_important</th>\n",
       "      <th>d_sincere_important</th>\n",
       "      <th>d_intellicence_important</th>\n",
       "      <th>d_funny_important</th>\n",
       "      <th>d_ambtition_important</th>\n",
       "      <th>d_shared_interests_important</th>\n",
       "      <th>d_attractive</th>\n",
       "      <th>d_sincere</th>\n",
       "      <th>d_intelligence</th>\n",
       "      <th>d_funny</th>\n",
       "      <th>d_ambition</th>\n",
       "      <th>d_attractive_partner</th>\n",
       "      <th>d_sincere_partner</th>\n",
       "      <th>d_intelligence_partner</th>\n",
       "      <th>d_funny_partner</th>\n",
       "      <th>d_ambition_partner</th>\n",
       "      <th>d_shared_interests_partner</th>\n",
       "      <th>d_sports</th>\n",
       "      <th>d_tvsports</th>\n",
       "      <th>d_exercise</th>\n",
       "      <th>d_dining</th>\n",
       "      <th>d_museums</th>\n",
       "      <th>d_art</th>\n",
       "      <th>d_hiking</th>\n",
       "      <th>d_gaming</th>\n",
       "      <th>d_clubbing</th>\n",
       "      <th>d_reading</th>\n",
       "      <th>d_tv</th>\n",
       "      <th>d_theater</th>\n",
       "      <th>d_movies</th>\n",
       "      <th>d_concerts</th>\n",
       "      <th>d_music</th>\n",
       "      <th>d_shopping</th>\n",
       "      <th>d_yoga</th>\n",
       "      <th>d_interests_correlate</th>\n",
       "      <th>d_expected_happy_with_sd_people</th>\n",
       "      <th>d_expected_num_interested_in_me</th>\n",
       "      <th>d_expected_num_matches</th>\n",
       "      <th>d_like</th>\n",
       "      <th>d_guess_prob_liked</th>\n",
       "      <th>decision</th>\n",
       "      <th>decision_o</th>\n",
       "      <th>match</th>\n",
       "    </tr>\n",
       "  </thead>\n",
       "  <tbody>\n",
       "    <tr>\n",
       "      <th>0</th>\n",
       "      <td></td>\n",
       "      <td>female</td>\n",
       "      <td>[4-6]</td>\n",
       "      <td>Asian/Pacific Islander/Asian-American</td>\n",
       "      <td>European/Caucasian-American</td>\n",
       "      <td>0</td>\n",
       "      <td>[2-5]</td>\n",
       "      <td>[2-5]</td>\n",
       "      <td>Law</td>\n",
       "      <td>[21-100]</td>\n",
       "      <td>[16-20]</td>\n",
       "      <td>[16-20]</td>\n",
       "      <td>[16-20]</td>\n",
       "      <td>[0-15]</td>\n",
       "      <td>[0-15]</td>\n",
       "      <td>[6-8]</td>\n",
       "      <td>[6-8]</td>\n",
       "      <td>[6-8]</td>\n",
       "      <td>[6-8]</td>\n",
       "      <td>[6-8]</td>\n",
       "      <td>[6-8]</td>\n",
       "      <td>[0-15]</td>\n",
       "      <td>[16-20]</td>\n",
       "      <td>[16-20]</td>\n",
       "      <td>[0-15]</td>\n",
       "      <td>[0-15]</td>\n",
       "      <td>[0-15]</td>\n",
       "      <td>[6-8]</td>\n",
       "      <td>[6-8]</td>\n",
       "      <td>[6-8]</td>\n",
       "      <td>[6-8]</td>\n",
       "      <td>[6-8]</td>\n",
       "      <td>[6-8]</td>\n",
       "      <td>[9-10]</td>\n",
       "      <td>[6-8]</td>\n",
       "      <td>[6-8]</td>\n",
       "      <td>[6-8]</td>\n",
       "      <td>[0-5]</td>\n",
       "      <td>[9-10]</td>\n",
       "      <td>[0-5]</td>\n",
       "      <td>[6-8]</td>\n",
       "      <td>[9-10]</td>\n",
       "      <td>[0-5]</td>\n",
       "      <td>[0-5]</td>\n",
       "      <td>[0-5]</td>\n",
       "      <td>[0-5]</td>\n",
       "      <td>[0-5]</td>\n",
       "      <td>[6-8]</td>\n",
       "      <td>[9-10]</td>\n",
       "      <td>[0-5]</td>\n",
       "      <td>[9-10]</td>\n",
       "      <td>[9-10]</td>\n",
       "      <td>[9-10]</td>\n",
       "      <td>[6-8]</td>\n",
       "      <td>[0-5]</td>\n",
       "      <td>[0-0.33]</td>\n",
       "      <td>[0-4]</td>\n",
       "      <td>[0-3]</td>\n",
       "      <td>[3-5]</td>\n",
       "      <td>[6-8]</td>\n",
       "      <td>[5-6]</td>\n",
       "      <td>1</td>\n",
       "      <td>0</td>\n",
       "      <td>0</td>\n",
       "    </tr>\n",
       "    <tr>\n",
       "      <th>1</th>\n",
       "      <td></td>\n",
       "      <td>female</td>\n",
       "      <td>[0-1]</td>\n",
       "      <td>Asian/Pacific Islander/Asian-American</td>\n",
       "      <td>European/Caucasian-American</td>\n",
       "      <td>0</td>\n",
       "      <td>[2-5]</td>\n",
       "      <td>[2-5]</td>\n",
       "      <td>Law</td>\n",
       "      <td>[21-100]</td>\n",
       "      <td>[0-15]</td>\n",
       "      <td>[0-15]</td>\n",
       "      <td>[21-100]</td>\n",
       "      <td>[0-15]</td>\n",
       "      <td>[0-15]</td>\n",
       "      <td>[6-8]</td>\n",
       "      <td>[6-8]</td>\n",
       "      <td>[9-10]</td>\n",
       "      <td>[6-8]</td>\n",
       "      <td>[6-8]</td>\n",
       "      <td>[0-5]</td>\n",
       "      <td>[0-15]</td>\n",
       "      <td>[16-20]</td>\n",
       "      <td>[16-20]</td>\n",
       "      <td>[0-15]</td>\n",
       "      <td>[0-15]</td>\n",
       "      <td>[0-15]</td>\n",
       "      <td>[6-8]</td>\n",
       "      <td>[6-8]</td>\n",
       "      <td>[6-8]</td>\n",
       "      <td>[6-8]</td>\n",
       "      <td>[6-8]</td>\n",
       "      <td>[6-8]</td>\n",
       "      <td>[6-8]</td>\n",
       "      <td>[6-8]</td>\n",
       "      <td>[6-8]</td>\n",
       "      <td>[0-5]</td>\n",
       "      <td>[6-8]</td>\n",
       "      <td>[9-10]</td>\n",
       "      <td>[0-5]</td>\n",
       "      <td>[6-8]</td>\n",
       "      <td>[9-10]</td>\n",
       "      <td>[0-5]</td>\n",
       "      <td>[0-5]</td>\n",
       "      <td>[0-5]</td>\n",
       "      <td>[0-5]</td>\n",
       "      <td>[0-5]</td>\n",
       "      <td>[6-8]</td>\n",
       "      <td>[9-10]</td>\n",
       "      <td>[0-5]</td>\n",
       "      <td>[9-10]</td>\n",
       "      <td>[9-10]</td>\n",
       "      <td>[9-10]</td>\n",
       "      <td>[6-8]</td>\n",
       "      <td>[0-5]</td>\n",
       "      <td>[0.33-1]</td>\n",
       "      <td>[0-4]</td>\n",
       "      <td>[0-3]</td>\n",
       "      <td>[3-5]</td>\n",
       "      <td>[6-8]</td>\n",
       "      <td>[5-6]</td>\n",
       "      <td>1</td>\n",
       "      <td>0</td>\n",
       "      <td>0</td>\n",
       "    </tr>\n",
       "    <tr>\n",
       "      <th>2</th>\n",
       "      <td></td>\n",
       "      <td>female</td>\n",
       "      <td>[0-1]</td>\n",
       "      <td>Asian/Pacific Islander/Asian-American</td>\n",
       "      <td>Asian/Pacific Islander/Asian-American</td>\n",
       "      <td>1</td>\n",
       "      <td>[2-5]</td>\n",
       "      <td>[2-5]</td>\n",
       "      <td>Law</td>\n",
       "      <td>[16-20]</td>\n",
       "      <td>[16-20]</td>\n",
       "      <td>[16-20]</td>\n",
       "      <td>[16-20]</td>\n",
       "      <td>[0-15]</td>\n",
       "      <td>[0-15]</td>\n",
       "      <td>[9-10]</td>\n",
       "      <td>[9-10]</td>\n",
       "      <td>[9-10]</td>\n",
       "      <td>[9-10]</td>\n",
       "      <td>[9-10]</td>\n",
       "      <td>[9-10]</td>\n",
       "      <td>[0-15]</td>\n",
       "      <td>[16-20]</td>\n",
       "      <td>[16-20]</td>\n",
       "      <td>[0-15]</td>\n",
       "      <td>[0-15]</td>\n",
       "      <td>[0-15]</td>\n",
       "      <td>[6-8]</td>\n",
       "      <td>[6-8]</td>\n",
       "      <td>[6-8]</td>\n",
       "      <td>[6-8]</td>\n",
       "      <td>[6-8]</td>\n",
       "      <td>[0-5]</td>\n",
       "      <td>[6-8]</td>\n",
       "      <td>[9-10]</td>\n",
       "      <td>[6-8]</td>\n",
       "      <td>[0-5]</td>\n",
       "      <td>[6-8]</td>\n",
       "      <td>[9-10]</td>\n",
       "      <td>[0-5]</td>\n",
       "      <td>[6-8]</td>\n",
       "      <td>[9-10]</td>\n",
       "      <td>[0-5]</td>\n",
       "      <td>[0-5]</td>\n",
       "      <td>[0-5]</td>\n",
       "      <td>[0-5]</td>\n",
       "      <td>[0-5]</td>\n",
       "      <td>[6-8]</td>\n",
       "      <td>[9-10]</td>\n",
       "      <td>[0-5]</td>\n",
       "      <td>[9-10]</td>\n",
       "      <td>[9-10]</td>\n",
       "      <td>[9-10]</td>\n",
       "      <td>[6-8]</td>\n",
       "      <td>[0-5]</td>\n",
       "      <td>[0-0.33]</td>\n",
       "      <td>[0-4]</td>\n",
       "      <td>[0-3]</td>\n",
       "      <td>[3-5]</td>\n",
       "      <td>[6-8]</td>\n",
       "      <td>[0-4]</td>\n",
       "      <td>1</td>\n",
       "      <td>1</td>\n",
       "      <td>1</td>\n",
       "    </tr>\n",
       "  </tbody>\n",
       "</table>\n",
       "</div>"
      ],
      "text/plain": [
       "  has_null  gender d_d_age                                   race  \\\n",
       "0           female   [4-6]  Asian/Pacific Islander/Asian-American   \n",
       "1           female   [0-1]  Asian/Pacific Islander/Asian-American   \n",
       "2           female   [0-1]  Asian/Pacific Islander/Asian-American   \n",
       "\n",
       "                                  race_o samerace d_importance_same_race  \\\n",
       "0            European/Caucasian-American        0                  [2-5]   \n",
       "1            European/Caucasian-American        0                  [2-5]   \n",
       "2  Asian/Pacific Islander/Asian-American        1                  [2-5]   \n",
       "\n",
       "  d_importance_same_religion field d_pref_o_attractive d_pref_o_sincere  \\\n",
       "0                      [2-5]   Law            [21-100]          [16-20]   \n",
       "1                      [2-5]   Law            [21-100]           [0-15]   \n",
       "2                      [2-5]   Law             [16-20]          [16-20]   \n",
       "\n",
       "  d_pref_o_intelligence d_pref_o_funny d_pref_o_ambitious  \\\n",
       "0               [16-20]        [16-20]             [0-15]   \n",
       "1                [0-15]       [21-100]             [0-15]   \n",
       "2               [16-20]        [16-20]             [0-15]   \n",
       "\n",
       "  d_pref_o_shared_interests d_attractive_o d_sinsere_o d_intelligence_o  \\\n",
       "0                    [0-15]          [6-8]       [6-8]            [6-8]   \n",
       "1                    [0-15]          [6-8]       [6-8]           [9-10]   \n",
       "2                    [0-15]         [9-10]      [9-10]           [9-10]   \n",
       "\n",
       "  d_funny_o d_ambitous_o d_shared_interests_o d_attractive_important  \\\n",
       "0     [6-8]        [6-8]                [6-8]                 [0-15]   \n",
       "1     [6-8]        [6-8]                [0-5]                 [0-15]   \n",
       "2    [9-10]       [9-10]               [9-10]                 [0-15]   \n",
       "\n",
       "  d_sincere_important d_intellicence_important d_funny_important  \\\n",
       "0             [16-20]                  [16-20]            [0-15]   \n",
       "1             [16-20]                  [16-20]            [0-15]   \n",
       "2             [16-20]                  [16-20]            [0-15]   \n",
       "\n",
       "  d_ambtition_important d_shared_interests_important d_attractive d_sincere  \\\n",
       "0                [0-15]                       [0-15]        [6-8]     [6-8]   \n",
       "1                [0-15]                       [0-15]        [6-8]     [6-8]   \n",
       "2                [0-15]                       [0-15]        [6-8]     [6-8]   \n",
       "\n",
       "  d_intelligence d_funny d_ambition d_attractive_partner d_sincere_partner  \\\n",
       "0          [6-8]   [6-8]      [6-8]                [6-8]            [9-10]   \n",
       "1          [6-8]   [6-8]      [6-8]                [6-8]             [6-8]   \n",
       "2          [6-8]   [6-8]      [6-8]                [0-5]             [6-8]   \n",
       "\n",
       "  d_intelligence_partner d_funny_partner d_ambition_partner  \\\n",
       "0                  [6-8]           [6-8]              [6-8]   \n",
       "1                  [6-8]           [6-8]              [0-5]   \n",
       "2                 [9-10]           [6-8]              [0-5]   \n",
       "\n",
       "  d_shared_interests_partner d_sports d_tvsports d_exercise d_dining  \\\n",
       "0                      [0-5]   [9-10]      [0-5]      [6-8]   [9-10]   \n",
       "1                      [6-8]   [9-10]      [0-5]      [6-8]   [9-10]   \n",
       "2                      [6-8]   [9-10]      [0-5]      [6-8]   [9-10]   \n",
       "\n",
       "  d_museums  d_art d_hiking d_gaming d_clubbing d_reading    d_tv d_theater  \\\n",
       "0     [0-5]  [0-5]    [0-5]    [0-5]      [0-5]     [6-8]  [9-10]     [0-5]   \n",
       "1     [0-5]  [0-5]    [0-5]    [0-5]      [0-5]     [6-8]  [9-10]     [0-5]   \n",
       "2     [0-5]  [0-5]    [0-5]    [0-5]      [0-5]     [6-8]  [9-10]     [0-5]   \n",
       "\n",
       "  d_movies d_concerts d_music d_shopping d_yoga d_interests_correlate  \\\n",
       "0   [9-10]     [9-10]  [9-10]      [6-8]  [0-5]              [0-0.33]   \n",
       "1   [9-10]     [9-10]  [9-10]      [6-8]  [0-5]              [0.33-1]   \n",
       "2   [9-10]     [9-10]  [9-10]      [6-8]  [0-5]              [0-0.33]   \n",
       "\n",
       "  d_expected_happy_with_sd_people d_expected_num_interested_in_me  \\\n",
       "0                           [0-4]                           [0-3]   \n",
       "1                           [0-4]                           [0-3]   \n",
       "2                           [0-4]                           [0-3]   \n",
       "\n",
       "  d_expected_num_matches d_like d_guess_prob_liked decision decision_o match  \n",
       "0                  [3-5]  [6-8]              [5-6]        1          0     0  \n",
       "1                  [3-5]  [6-8]              [5-6]        1          0     0  \n",
       "2                  [3-5]  [6-8]              [0-4]        1          1     1  "
      ]
     },
     "execution_count": 9,
     "metadata": {},
     "output_type": "execute_result"
    }
   ],
   "source": [
    "# We create a function that removes all the unwanted characters\n",
    "def remove_xters(feature):\n",
    "    return feature.replace(\"b'\",'').replace(\"'\",\"\")\n",
    "\n",
    "# We select string columns and apply the transformation\n",
    "string_dataset = dating.select_dtypes(include = ['object'])\n",
    "\n",
    "for feature in string_dataset.columns:\n",
    "    dating[feature] = dating[feature].apply(lambda x: remove_xters(x))\n",
    "    \n",
    "dating[string_dataset.columns].head(3)"
   ]
  },
  {
   "cell_type": "code",
   "execution_count": 10,
   "id": "75385f05",
   "metadata": {
    "execution": {
     "iopub.execute_input": "2023-02-27T09:55:36.730827Z",
     "iopub.status.busy": "2023-02-27T09:55:36.730232Z",
     "iopub.status.idle": "2023-02-27T09:55:36.759435Z",
     "shell.execute_reply": "2023-02-27T09:55:36.757793Z"
    },
    "papermill": {
     "duration": 0.056007,
     "end_time": "2023-02-27T09:55:36.763242",
     "exception": false,
     "start_time": "2023-02-27T09:55:36.707235",
     "status": "completed"
    },
    "tags": []
   },
   "outputs": [],
   "source": [
    "# Drop the has_null and wave columns\n",
    "dating.drop(['has_null','wave'], axis = 1, inplace= True)"
   ]
  },
  {
   "cell_type": "markdown",
   "id": "fa879a7f",
   "metadata": {
    "papermill": {
     "duration": 0.02169,
     "end_time": "2023-02-27T09:55:36.806629",
     "exception": false,
     "start_time": "2023-02-27T09:55:36.784939",
     "status": "completed"
    },
    "tags": []
   },
   "source": [
    "<p style = \"font-family:georgia, serif; font-size:17px\">The same race variable is a string data type. We convert it to numeric</p>"
   ]
  },
  {
   "cell_type": "code",
   "execution_count": 11,
   "id": "3197f32d",
   "metadata": {
    "execution": {
     "iopub.execute_input": "2023-02-27T09:55:36.852539Z",
     "iopub.status.busy": "2023-02-27T09:55:36.852005Z",
     "iopub.status.idle": "2023-02-27T09:55:36.882045Z",
     "shell.execute_reply": "2023-02-27T09:55:36.880659Z"
    },
    "papermill": {
     "duration": 0.056995,
     "end_time": "2023-02-27T09:55:36.885184",
     "exception": false,
     "start_time": "2023-02-27T09:55:36.828189",
     "status": "completed"
    },
    "tags": []
   },
   "outputs": [],
   "source": [
    "dating['samerace'] = dating['samerace'].astype('int')"
   ]
  },
  {
   "cell_type": "markdown",
   "id": "6248f4b9",
   "metadata": {
    "papermill": {
     "duration": 0.020872,
     "end_time": "2023-02-27T09:55:36.927756",
     "exception": false,
     "start_time": "2023-02-27T09:55:36.906884",
     "status": "completed"
    },
    "tags": []
   },
   "source": [
    "<h2 style=\"font-family:monospace; margin-left: 25px\">4.3 Dropping columns</h2>\n",
    "<h3 style=\"font-family:monospace; margin-left: 25px\"> 4.3.1 Age</h3>\n",
    "\n",
    "\n",
    "<p style = \"font-family:georgia, serif; font-size:17px\">\n",
    "There are four different columns for age and these are: age of individual, age of partner, age difference, and age group (where ages have been binned into categories). However the age difference column is not standardized since the difference is between the higher age and the lower age. We will standardize the difference by subtracting age between each individual and their partner. Since the direction of the difference matters, the column will have both positive and negative values. We will then drop the other age columns</p>"
   ]
  },
  {
   "cell_type": "code",
   "execution_count": 12,
   "id": "641d39b7",
   "metadata": {
    "execution": {
     "iopub.execute_input": "2023-02-27T09:55:36.972796Z",
     "iopub.status.busy": "2023-02-27T09:55:36.971697Z",
     "iopub.status.idle": "2023-02-27T09:55:37.011162Z",
     "shell.execute_reply": "2023-02-27T09:55:37.009405Z"
    },
    "papermill": {
     "duration": 0.066946,
     "end_time": "2023-02-27T09:55:37.015937",
     "exception": false,
     "start_time": "2023-02-27T09:55:36.948991",
     "status": "completed"
    },
    "tags": []
   },
   "outputs": [],
   "source": [
    "# Create age difference column\n",
    "dating['age_diff'] = dating['age'] - dating['age_o']\n",
    "\n",
    "# Drop other age columns\n",
    "dating.drop(['age','age_o', 'd_age', 'd_d_age'], axis = 1, inplace = True)"
   ]
  },
  {
   "cell_type": "markdown",
   "id": "0aaa4f90",
   "metadata": {
    "papermill": {
     "duration": 0.020955,
     "end_time": "2023-02-27T09:55:37.059123",
     "exception": false,
     "start_time": "2023-02-27T09:55:37.038168",
     "status": "completed"
    },
    "tags": []
   },
   "source": [
    "<h3 style=\"font-family:monospace; margin-left: 25px\">4.3.2 Binned variables</h3>\n",
    "<p style = \"font-family:georgia, serif; font-size:17px\">\n",
    "The speed dating dataset has some of the numeric features binned into categories. This is a duplication of information which increases the dimensionality of the dataset without adding any significant value. We will remove all the duplicated features. Conveniently, the names of these binned features have the prefix \"d_\". We will use this to subset and remove these features. Before the selection, the dataset has 118 features, and after the selection, we remain with 64 features.</p>"
   ]
  },
  {
   "cell_type": "code",
   "execution_count": 13,
   "id": "8eae81bf",
   "metadata": {
    "execution": {
     "iopub.execute_input": "2023-02-27T09:55:37.107489Z",
     "iopub.status.busy": "2023-02-27T09:55:37.106915Z",
     "iopub.status.idle": "2023-02-27T09:55:37.115132Z",
     "shell.execute_reply": "2023-02-27T09:55:37.114024Z"
    },
    "papermill": {
     "duration": 0.036515,
     "end_time": "2023-02-27T09:55:37.117892",
     "exception": false,
     "start_time": "2023-02-27T09:55:37.081377",
     "status": "completed"
    },
    "tags": []
   },
   "outputs": [
    {
     "data": {
      "text/plain": [
       "(8378, 118)"
      ]
     },
     "execution_count": 13,
     "metadata": {},
     "output_type": "execute_result"
    }
   ],
   "source": [
    "dating.shape"
   ]
  },
  {
   "cell_type": "code",
   "execution_count": 14,
   "id": "2a4baaf8",
   "metadata": {
    "execution": {
     "iopub.execute_input": "2023-02-27T09:55:37.166569Z",
     "iopub.status.busy": "2023-02-27T09:55:37.165298Z",
     "iopub.status.idle": "2023-02-27T09:55:37.188249Z",
     "shell.execute_reply": "2023-02-27T09:55:37.186817Z"
    },
    "papermill": {
     "duration": 0.050442,
     "end_time": "2023-02-27T09:55:37.191379",
     "exception": false,
     "start_time": "2023-02-27T09:55:37.140937",
     "status": "completed"
    },
    "tags": []
   },
   "outputs": [
    {
     "data": {
      "text/plain": [
       "(8378, 64)"
      ]
     },
     "execution_count": 14,
     "metadata": {},
     "output_type": "execute_result"
    }
   ],
   "source": [
    "to_drop = [column_name for column_name in dating.columns if column_name.startswith('d_')]\n",
    "dating.drop(to_drop, axis = 1, inplace = True)\n",
    "dating.shape"
   ]
  },
  {
   "cell_type": "markdown",
   "id": "fd76bcfd",
   "metadata": {
    "execution": {
     "iopub.execute_input": "2023-02-22T10:31:41.783299Z",
     "iopub.status.busy": "2023-02-22T10:31:41.782896Z",
     "iopub.status.idle": "2023-02-22T10:31:41.790498Z",
     "shell.execute_reply": "2023-02-22T10:31:41.789438Z",
     "shell.execute_reply.started": "2023-02-22T10:31:41.783268Z"
    },
    "papermill": {
     "duration": 0.021004,
     "end_time": "2023-02-27T09:55:37.234638",
     "exception": false,
     "start_time": "2023-02-27T09:55:37.213634",
     "status": "completed"
    },
    "tags": []
   },
   "source": [
    "### <h3 style=\"font-family:monospace; margin-left: 25px\">4.3.3 Field</h3>\n",
    "<p style = \"font-family:georgia, serif; font-size:17px\">\n",
    "In the individual field indicating their careers, there's an overlapping of values. For instance, Business, which is the most popular field still comprises of MBA (2nd most popular), Finance, business [MBA] etc. Physics, Chemistry, Biology all fall under science. Due to this variation and overlapping, we will drop the column</p>"
   ]
  },
  {
   "cell_type": "code",
   "execution_count": 15,
   "id": "d0ed84ba",
   "metadata": {
    "execution": {
     "iopub.execute_input": "2023-02-27T09:55:37.280700Z",
     "iopub.status.busy": "2023-02-27T09:55:37.280164Z",
     "iopub.status.idle": "2023-02-27T09:55:37.299788Z",
     "shell.execute_reply": "2023-02-27T09:55:37.298155Z"
    },
    "papermill": {
     "duration": 0.04684,
     "end_time": "2023-02-27T09:55:37.303307",
     "exception": false,
     "start_time": "2023-02-27T09:55:37.256467",
     "status": "completed"
    },
    "tags": []
   },
   "outputs": [
    {
     "data": {
      "text/plain": [
       "Business                  521\n",
       "MBA                       468\n",
       "Law                       462\n",
       "Social Work               378\n",
       "International Affairs     252\n",
       "Electrical Engineering    164\n",
       "Psychology                139\n",
       "law                       123\n",
       "Finance                   113\n",
       "business                  110\n",
       "Mathematics                95\n",
       "Film                       92\n",
       "Sociology                  88\n",
       "Biology                    85\n",
       "Engineering                81\n",
       "Business [MBA]             77\n",
       "Clinical Psychology        76\n",
       "Biochemistry               70\n",
       "Political Science          69\n",
       "Economics                  67\n",
       "?                          63\n",
       "chemistry                  57\n",
       "Physics                    56\n",
       "Operations Research        56\n",
       "School Psychology          56\n",
       "Education                  55\n",
       "medicine                   52\n",
       "sociology                  52\n",
       "Mechanical Engineering     51\n",
       "Urban Planning             50\n",
       "Name: field, dtype: int64"
      ]
     },
     "metadata": {},
     "output_type": "display_data"
    }
   ],
   "source": [
    "display(dating.field.value_counts().head(30))\n",
    "dating.drop('field',axis = 1, inplace = True)"
   ]
  },
  {
   "cell_type": "markdown",
   "id": "b824b1b1",
   "metadata": {
    "papermill": {
     "duration": 0.020919,
     "end_time": "2023-02-27T09:55:37.346526",
     "exception": false,
     "start_time": "2023-02-27T09:55:37.325607",
     "status": "completed"
    },
    "tags": []
   },
   "source": [
    "<h3 style=\"font-family:monospace; margin-left: 25px\">4.3.4 Met</h3>\n",
    "<p style = \"font-family:georgia, serif; font-size:17px\">\n",
    "The variable met answers the question as to whether the person has previously met the partner. Since the responses are either yes(1) or no (0), we will clean the column and change responses with neither values, and replace them with the most frequent value. Since they are only a few values, they will not skew our data.</p>"
   ]
  },
  {
   "cell_type": "code",
   "execution_count": 16,
   "id": "42599245",
   "metadata": {
    "execution": {
     "iopub.execute_input": "2023-02-27T09:55:37.393096Z",
     "iopub.status.busy": "2023-02-27T09:55:37.391797Z",
     "iopub.status.idle": "2023-02-27T09:55:37.409304Z",
     "shell.execute_reply": "2023-02-27T09:55:37.406898Z"
    },
    "papermill": {
     "duration": 0.043944,
     "end_time": "2023-02-27T09:55:37.412493",
     "exception": false,
     "start_time": "2023-02-27T09:55:37.368549",
     "status": "completed"
    },
    "tags": []
   },
   "outputs": [
    {
     "name": "stdout",
     "output_type": "stream",
     "text": [
      "Before \n",
      "0.0    7644\n",
      "1.0     351\n",
      "7.0       3\n",
      "5.0       2\n",
      "3.0       1\n",
      "8.0       1\n",
      "6.0       1\n",
      "Name: met, dtype: int64\n",
      "\n",
      "After \n",
      "0.0    7652\n",
      "1.0     351\n",
      "Name: met, dtype: int64\n"
     ]
    }
   ],
   "source": [
    "print(f'Before \\n{dating.met.value_counts()}')\n",
    "\n",
    "for number in [3.0, 5.0, 6.0, 7.0, 8.0]:\n",
    "    dating['met'].replace(number,0, inplace =True)\n",
    "    \n",
    "print(f'\\nAfter \\n{dating.met.value_counts()}')"
   ]
  },
  {
   "cell_type": "markdown",
   "id": "941ab435",
   "metadata": {
    "papermill": {
     "duration": 0.021777,
     "end_time": "2023-02-27T09:55:37.456173",
     "exception": false,
     "start_time": "2023-02-27T09:55:37.434396",
     "status": "completed"
    },
    "tags": []
   },
   "source": [
    "<h3 style=\"font-family:monospace; margin-left: 25px\">4.3.5 Variables similar to the y variable</h3>\n",
    "<p style = \"font-family:georgia, serif; font-size:17px\">The two variables 'decision' and 'decision_o' have similar responses almost similar to the variable being predicted. We will therefore remove these two features.</p>"
   ]
  },
  {
   "cell_type": "code",
   "execution_count": 17,
   "id": "e6006ca5",
   "metadata": {
    "execution": {
     "iopub.execute_input": "2023-02-27T09:55:37.505006Z",
     "iopub.status.busy": "2023-02-27T09:55:37.504469Z",
     "iopub.status.idle": "2023-02-27T09:55:37.536762Z",
     "shell.execute_reply": "2023-02-27T09:55:37.535334Z"
    },
    "papermill": {
     "duration": 0.061464,
     "end_time": "2023-02-27T09:55:37.539854",
     "exception": false,
     "start_time": "2023-02-27T09:55:37.478390",
     "status": "completed"
    },
    "tags": []
   },
   "outputs": [
    {
     "data": {
      "text/plain": [
       "decision  match\n",
       "0         0        4860\n",
       "1         0        2138\n",
       "          1        1380\n",
       "Name: match, dtype: int64"
      ]
     },
     "metadata": {},
     "output_type": "display_data"
    },
    {
     "name": "stdout",
     "output_type": "stream",
     "text": [
      "\n"
     ]
    },
    {
     "data": {
      "text/plain": [
       "decision_o  match\n",
       "0           0        4863\n",
       "1           0        2135\n",
       "            1        1380\n",
       "Name: match, dtype: int64"
      ]
     },
     "metadata": {},
     "output_type": "display_data"
    }
   ],
   "source": [
    "display(dating.groupby('decision')['match'].value_counts())\n",
    "print()\n",
    "display(dating.groupby('decision_o')['match'].value_counts())\n",
    "\n",
    "dating.drop(['decision_o','decision'], axis = 1, inplace = True)"
   ]
  },
  {
   "cell_type": "markdown",
   "id": "ae073ace",
   "metadata": {
    "execution": {
     "iopub.execute_input": "2023-02-27T05:39:01.586028Z",
     "iopub.status.busy": "2023-02-27T05:39:01.585535Z",
     "iopub.status.idle": "2023-02-27T05:39:01.593068Z",
     "shell.execute_reply": "2023-02-27T05:39:01.591328Z",
     "shell.execute_reply.started": "2023-02-27T05:39:01.585990Z"
    },
    "papermill": {
     "duration": 0.021369,
     "end_time": "2023-02-27T09:55:37.583219",
     "exception": false,
     "start_time": "2023-02-27T09:55:37.561850",
     "status": "completed"
    },
    "tags": []
   },
   "source": [
    "<h2 style=\"font-family:monospace; margin-left: 25px\">4.4 Numeric and categorical columns</h2>\n"
   ]
  },
  {
   "cell_type": "code",
   "execution_count": 18,
   "id": "72343d47",
   "metadata": {
    "execution": {
     "iopub.execute_input": "2023-02-27T09:55:37.630221Z",
     "iopub.status.busy": "2023-02-27T09:55:37.629709Z",
     "iopub.status.idle": "2023-02-27T09:55:37.645693Z",
     "shell.execute_reply": "2023-02-27T09:55:37.643986Z"
    },
    "papermill": {
     "duration": 0.043133,
     "end_time": "2023-02-27T09:55:37.648505",
     "exception": false,
     "start_time": "2023-02-27T09:55:37.605372",
     "status": "completed"
    },
    "tags": []
   },
   "outputs": [],
   "source": [
    "# Selecting numeric columns\n",
    "columns_numeric = dating.select_dtypes(include = ['int','float']).columns.tolist()\n",
    "\n",
    "# Selecting categorical columns\n",
    "columns_category = dating.select_dtypes(include = ['object']).drop('match', axis=1).columns"
   ]
  },
  {
   "cell_type": "markdown",
   "id": "5d5f441e",
   "metadata": {
    "papermill": {
     "duration": 0.021481,
     "end_time": "2023-02-27T09:55:37.692050",
     "exception": false,
     "start_time": "2023-02-27T09:55:37.670569",
     "status": "completed"
    },
    "tags": []
   },
   "source": [
    "<h2 style=\"font-family:monospace; margin-left: 25px\">4.5. Missing values</h2>\n",
    "<p style = \"font-family:georgia, serif; font-size:17px\">More than 78% of values in the variable \"expected_num_interested_in_me\" are missing. This variable will therefore be dropped. The rest of the features will be imputed with the median value of each feature.</p>"
   ]
  },
  {
   "cell_type": "code",
   "execution_count": 19,
   "id": "462d6c12",
   "metadata": {
    "execution": {
     "iopub.execute_input": "2023-02-27T09:55:37.739507Z",
     "iopub.status.busy": "2023-02-27T09:55:37.738970Z",
     "iopub.status.idle": "2023-02-27T09:55:37.760724Z",
     "shell.execute_reply": "2023-02-27T09:55:37.759265Z"
    },
    "papermill": {
     "duration": 0.049523,
     "end_time": "2023-02-27T09:55:37.763979",
     "exception": false,
     "start_time": "2023-02-27T09:55:37.714456",
     "status": "completed"
    },
    "tags": []
   },
   "outputs": [
    {
     "data": {
      "text/plain": [
       "samerace                          0.000000\n",
       "importance_same_race              0.942946\n",
       "importance_same_religion          0.942946\n",
       "pref_o_attractive                 1.062306\n",
       "pref_o_sincere                    1.062306\n",
       "pref_o_intelligence               1.062306\n",
       "pref_o_funny                      1.169730\n",
       "pref_o_ambitious                  1.277154\n",
       "pref_o_shared_interests           1.539747\n",
       "attractive_o                      2.530437\n",
       "sinsere_o                         3.425639\n",
       "intelligence_o                    3.652423\n",
       "funny_o                           4.296968\n",
       "ambitous_o                        8.617809\n",
       "shared_interests_o               12.843161\n",
       "attractive_important              0.942946\n",
       "sincere_important                 0.942946\n",
       "intellicence_important            0.942946\n",
       "funny_important                   1.062306\n",
       "ambtition_important               1.181666\n",
       "shared_interests_important        1.444259\n",
       "attractive                        1.253282\n",
       "sincere                           1.253282\n",
       "intelligence                      1.253282\n",
       "funny                             1.253282\n",
       "ambition                          1.253282\n",
       "attractive_partner                2.411077\n",
       "sincere_partner                   3.306278\n",
       "intelligence_partner              3.533063\n",
       "funny_partner                     4.177608\n",
       "ambition_partner                  8.498448\n",
       "shared_interests_partner         12.735736\n",
       "sports                            0.942946\n",
       "tvsports                          0.942946\n",
       "exercise                          0.942946\n",
       "dining                            0.942946\n",
       "museums                           0.942946\n",
       "art                               0.942946\n",
       "hiking                            0.942946\n",
       "gaming                            0.942946\n",
       "clubbing                          0.942946\n",
       "reading                           0.942946\n",
       "tv                                0.942946\n",
       "theater                           0.942946\n",
       "movies                            0.942946\n",
       "concerts                          0.942946\n",
       "music                             0.942946\n",
       "shopping                          0.942946\n",
       "yoga                              0.942946\n",
       "interests_correlate               1.885892\n",
       "expected_happy_with_sd_people     1.205538\n",
       "expected_num_interested_in_me    78.515159\n",
       "expected_num_matches             14.000955\n",
       "like                              2.864646\n",
       "guess_prob_liked                  3.688231\n",
       "met                               4.476009\n",
       "age_diff                          2.363333\n",
       "dtype: float64"
      ]
     },
     "metadata": {},
     "output_type": "display_data"
    }
   ],
   "source": [
    "# Show the missing values\n",
    "display(dating[columns_numeric].isna().sum()/len(dating)*100)\n",
    "\n",
    "# Drop the variable with lots of missing values from the dataset\n",
    "dating.drop('expected_num_interested_in_me', axis = 1, inplace = True)\n",
    "\n",
    "# Delete it from the numeric column list\n",
    "\n",
    "columns_numeric.remove('expected_num_interested_in_me')"
   ]
  },
  {
   "cell_type": "code",
   "execution_count": 20,
   "id": "14cdbd2c",
   "metadata": {
    "execution": {
     "iopub.execute_input": "2023-02-27T09:55:37.814721Z",
     "iopub.status.busy": "2023-02-27T09:55:37.814210Z",
     "iopub.status.idle": "2023-02-27T09:55:38.165308Z",
     "shell.execute_reply": "2023-02-27T09:55:38.163778Z"
    },
    "papermill": {
     "duration": 0.378513,
     "end_time": "2023-02-27T09:55:38.168491",
     "exception": false,
     "start_time": "2023-02-27T09:55:37.789978",
     "status": "completed"
    },
    "tags": []
   },
   "outputs": [],
   "source": [
    "# Save the clean dataset for future analysis\n",
    "dating.to_csv('/kaggle/working/speed_dating_cleaned.csv')"
   ]
  },
  {
   "cell_type": "markdown",
   "id": "497f60f5",
   "metadata": {
    "papermill": {
     "duration": 0.023459,
     "end_time": "2023-02-27T09:55:38.215967",
     "exception": false,
     "start_time": "2023-02-27T09:55:38.192508",
     "status": "completed"
    },
    "tags": []
   },
   "source": [
    "<h1 style=\"font-family:monospace; margin-left: 25px\">5. Split dataset into training and test set</h1>"
   ]
  },
  {
   "cell_type": "code",
   "execution_count": 21,
   "id": "f7cf5cbd",
   "metadata": {
    "execution": {
     "iopub.execute_input": "2023-02-27T09:55:38.265563Z",
     "iopub.status.busy": "2023-02-27T09:55:38.264997Z",
     "iopub.status.idle": "2023-02-27T09:55:38.276215Z",
     "shell.execute_reply": "2023-02-27T09:55:38.274784Z"
    },
    "papermill": {
     "duration": 0.040179,
     "end_time": "2023-02-27T09:55:38.279255",
     "exception": false,
     "start_time": "2023-02-27T09:55:38.239076",
     "status": "completed"
    },
    "tags": []
   },
   "outputs": [],
   "source": [
    "X = dating.drop('match', axis = 1)\n",
    "y = dating['match'].astype('int')"
   ]
  },
  {
   "cell_type": "code",
   "execution_count": 22,
   "id": "1f890f8f",
   "metadata": {
    "execution": {
     "iopub.execute_input": "2023-02-27T09:55:38.327355Z",
     "iopub.status.busy": "2023-02-27T09:55:38.326836Z",
     "iopub.status.idle": "2023-02-27T09:55:38.343361Z",
     "shell.execute_reply": "2023-02-27T09:55:38.341832Z"
    },
    "papermill": {
     "duration": 0.045584,
     "end_time": "2023-02-27T09:55:38.346980",
     "exception": false,
     "start_time": "2023-02-27T09:55:38.301396",
     "status": "completed"
    },
    "tags": []
   },
   "outputs": [],
   "source": [
    "X_train, X_test, y_train, y_test = train_test_split(X, y, random_state = 33 )"
   ]
  },
  {
   "cell_type": "markdown",
   "id": "0f51eb19",
   "metadata": {
    "papermill": {
     "duration": 0.023277,
     "end_time": "2023-02-27T09:55:38.393011",
     "exception": false,
     "start_time": "2023-02-27T09:55:38.369734",
     "status": "completed"
    },
    "tags": []
   },
   "source": [
    "<h1 style=\"font-family:monospace\">6. Imputing, scaling and encoding</h1>\n",
    "<h2 style=\"font-family:monospace; margin-left: 25px\">6.1 Numeric variables</h2>\n",
    "<p style = \"font-family:georgia, serif; font-size:17px\">Numeric variables will be imputed by filling missing values with the median value and standardized using the standard scaler.</p>"
   ]
  },
  {
   "cell_type": "code",
   "execution_count": 23,
   "id": "4b1db6ec",
   "metadata": {
    "execution": {
     "iopub.execute_input": "2023-02-27T09:55:38.443659Z",
     "iopub.status.busy": "2023-02-27T09:55:38.443118Z",
     "iopub.status.idle": "2023-02-27T09:55:38.448809Z",
     "shell.execute_reply": "2023-02-27T09:55:38.447621Z"
    },
    "papermill": {
     "duration": 0.03382,
     "end_time": "2023-02-27T09:55:38.451255",
     "exception": false,
     "start_time": "2023-02-27T09:55:38.417435",
     "status": "completed"
    },
    "tags": []
   },
   "outputs": [],
   "source": [
    "# Instantiate the numeric imputer and scaler\n",
    "num_imp = SimpleImputer(strategy = 'median')\n",
    "scaler = StandardScaler()"
   ]
  },
  {
   "cell_type": "code",
   "execution_count": 24,
   "id": "696fc607",
   "metadata": {
    "execution": {
     "iopub.execute_input": "2023-02-27T09:55:38.502778Z",
     "iopub.status.busy": "2023-02-27T09:55:38.501438Z",
     "iopub.status.idle": "2023-02-27T09:55:38.585067Z",
     "shell.execute_reply": "2023-02-27T09:55:38.583140Z"
    },
    "papermill": {
     "duration": 0.112432,
     "end_time": "2023-02-27T09:55:38.588166",
     "exception": false,
     "start_time": "2023-02-27T09:55:38.475734",
     "status": "completed"
    },
    "tags": []
   },
   "outputs": [],
   "source": [
    "# Impute the training set\n",
    "X_train_imp = num_imp.fit_transform(X_train[columns_numeric])\n",
    "\n",
    "# Scale the training set\n",
    "X_train_imp_scaled = scaler.fit_transform(X_train_imp)\n",
    "\n",
    "# Convert the training set to a dataframe\n",
    "X_train_num_final = pd.DataFrame(X_train_imp_scaled, columns = columns_numeric)"
   ]
  },
  {
   "cell_type": "code",
   "execution_count": 25,
   "id": "5c446f1c",
   "metadata": {
    "execution": {
     "iopub.execute_input": "2023-02-27T09:55:38.639109Z",
     "iopub.status.busy": "2023-02-27T09:55:38.638574Z",
     "iopub.status.idle": "2023-02-27T09:55:38.670569Z",
     "shell.execute_reply": "2023-02-27T09:55:38.668786Z"
    },
    "papermill": {
     "duration": 0.060865,
     "end_time": "2023-02-27T09:55:38.674021",
     "exception": false,
     "start_time": "2023-02-27T09:55:38.613156",
     "status": "completed"
    },
    "tags": []
   },
   "outputs": [],
   "source": [
    "# Impute the test set\n",
    "X_test_imp = num_imp.fit_transform(X_test[columns_numeric])\n",
    "\n",
    "# Scale the test set\n",
    "X_test_imp_scaled = scaler.fit_transform(X_test_imp)\n",
    "\n",
    "# Convert the test set to a dataframe\n",
    "X_test_num_final = pd.DataFrame(X_test_imp_scaled, columns = columns_numeric)"
   ]
  },
  {
   "cell_type": "markdown",
   "id": "44452f18",
   "metadata": {
    "papermill": {
     "duration": 0.021549,
     "end_time": "2023-02-27T09:55:38.717591",
     "exception": false,
     "start_time": "2023-02-27T09:55:38.696042",
     "status": "completed"
    },
    "tags": []
   },
   "source": [
    "<h2 style=\"font-family:monospace; margin-left: 25px\">6.2 Categorical variables</h2>\n",
    "<p style = \"font-family:georgia, serif; font-size:17px\">Categorical variables will be imputed by filling missing values with the value \"Unknown\". The variables will then be encoded into numeric values using the dictvectorizer.</p>"
   ]
  },
  {
   "cell_type": "code",
   "execution_count": 26,
   "id": "b0da641b",
   "metadata": {
    "execution": {
     "iopub.execute_input": "2023-02-27T09:55:38.764156Z",
     "iopub.status.busy": "2023-02-27T09:55:38.763576Z",
     "iopub.status.idle": "2023-02-27T09:55:38.770373Z",
     "shell.execute_reply": "2023-02-27T09:55:38.768779Z"
    },
    "papermill": {
     "duration": 0.033665,
     "end_time": "2023-02-27T09:55:38.773506",
     "exception": false,
     "start_time": "2023-02-27T09:55:38.739841",
     "status": "completed"
    },
    "tags": []
   },
   "outputs": [],
   "source": [
    "# Instantiate the categorical imputer and the dictvectorizer\n",
    "cat_imp = SimpleImputer(missing_values = '?', fill_value = 'Unknown', strategy = 'constant')\n",
    "vectorizer = DictVectorizer(sparse = False)"
   ]
  },
  {
   "cell_type": "code",
   "execution_count": 27,
   "id": "276ef2d4",
   "metadata": {
    "execution": {
     "iopub.execute_input": "2023-02-27T09:55:38.820404Z",
     "iopub.status.busy": "2023-02-27T09:55:38.819184Z",
     "iopub.status.idle": "2023-02-27T09:55:38.914286Z",
     "shell.execute_reply": "2023-02-27T09:55:38.913168Z"
    },
    "papermill": {
     "duration": 0.122241,
     "end_time": "2023-02-27T09:55:38.917701",
     "exception": false,
     "start_time": "2023-02-27T09:55:38.795460",
     "status": "completed"
    },
    "tags": []
   },
   "outputs": [],
   "source": [
    "# Impute the training set\n",
    "X_train_imp = cat_imp.fit_transform(X_train[columns_category])\n",
    "\n",
    "# Convert to dataframe\n",
    "X_train_imp_df = pd.DataFrame(X_train_imp, columns = columns_category)\n",
    "\n",
    "# Encode the training set \n",
    "X_train_cat_vect = vectorizer.fit_transform(X_train_imp_df[columns_category].to_dict('records'))\n",
    "\n",
    "# Convert to dataframe\n",
    "X_train_cat_final = pd.DataFrame(X_train_cat_vect, columns = vectorizer.get_feature_names_out())"
   ]
  },
  {
   "cell_type": "code",
   "execution_count": 28,
   "id": "8b391598",
   "metadata": {
    "execution": {
     "iopub.execute_input": "2023-02-27T09:55:38.967022Z",
     "iopub.status.busy": "2023-02-27T09:55:38.966399Z",
     "iopub.status.idle": "2023-02-27T09:55:39.010002Z",
     "shell.execute_reply": "2023-02-27T09:55:39.008312Z"
    },
    "papermill": {
     "duration": 0.07278,
     "end_time": "2023-02-27T09:55:39.013445",
     "exception": false,
     "start_time": "2023-02-27T09:55:38.940665",
     "status": "completed"
    },
    "tags": []
   },
   "outputs": [],
   "source": [
    "# Impute the test set\n",
    "X_test_imp = cat_imp.fit_transform(X_test[columns_category])\n",
    "\n",
    "# Convert to dataframe\n",
    "X_test_imp_df = pd.DataFrame(X_test_imp, columns = columns_category)\n",
    "\n",
    "# Encode the test set \n",
    "X_test_cat_vect = vectorizer.fit_transform(X_test_imp_df[columns_category].to_dict('records'))\n",
    "\n",
    "# Convert to dataframe\n",
    "X_test_cat_final = pd.DataFrame(X_test_cat_vect, columns = vectorizer.get_feature_names_out())"
   ]
  },
  {
   "cell_type": "markdown",
   "id": "27534a5f",
   "metadata": {
    "execution": {
     "iopub.status.busy": "2023-02-22T13:59:53.484351Z",
     "iopub.status.idle": "2023-02-22T13:59:53.485471Z",
     "shell.execute_reply": "2023-02-22T13:59:53.485259Z",
     "shell.execute_reply.started": "2023-02-22T13:59:53.485235Z"
    },
    "papermill": {
     "duration": 0.022836,
     "end_time": "2023-02-27T09:55:39.059235",
     "exception": false,
     "start_time": "2023-02-27T09:55:39.036399",
     "status": "completed"
    },
    "tags": []
   },
   "source": [
    "<h2 style=\"font-family:monospace; margin-left: 25px\">6.3 Join numeric and categorical variables</h2>\n",
    "<p style = \"font-family:georgia, serif; font-size:17px\">The transformed numeric and categorical variables are joined together to form the training set and test set. The transformations and one hot encoding creates datasets with 70 features.</p>"
   ]
  },
  {
   "cell_type": "code",
   "execution_count": 29,
   "id": "7a438ac3",
   "metadata": {
    "execution": {
     "iopub.execute_input": "2023-02-27T09:55:39.109275Z",
     "iopub.status.busy": "2023-02-27T09:55:39.108732Z",
     "iopub.status.idle": "2023-02-27T09:55:39.121017Z",
     "shell.execute_reply": "2023-02-27T09:55:39.119392Z"
    },
    "papermill": {
     "duration": 0.041869,
     "end_time": "2023-02-27T09:55:39.124627",
     "exception": false,
     "start_time": "2023-02-27T09:55:39.082758",
     "status": "completed"
    },
    "tags": []
   },
   "outputs": [
    {
     "name": "stdout",
     "output_type": "stream",
     "text": [
      "Training set shape is (6283, 70) and test shape shape is (2095, 70)\n"
     ]
    }
   ],
   "source": [
    "# Join numeric and categorical variables to create training set\n",
    "X_train = pd.concat([X_train_num_final,X_train_cat_final], axis = 1)\n",
    "\n",
    "# Join numeric and categorical variables to create test set\n",
    "X_test = pd.concat([X_test_num_final,X_test_cat_final], axis = 1)\n",
    "\n",
    "print('Training set shape is',X_train.shape, 'and test shape shape is',X_test.shape)"
   ]
  },
  {
   "cell_type": "markdown",
   "id": "18a942ee",
   "metadata": {
    "papermill": {
     "duration": 0.023306,
     "end_time": "2023-02-27T09:55:39.170671",
     "exception": false,
     "start_time": "2023-02-27T09:55:39.147365",
     "status": "completed"
    },
    "tags": []
   },
   "source": [
    "<h1 style=\"font-family:monospace\">7. Model evaluation before dimension reduction</h1>\n",
    "<p style = \"font-family:georgia, serif; font-size:17px\">We train and evaluate our models before we begin dimension reduction to find the accuracy when we use all the features. We will use the xgboost classifier for our evaluation since it has the highest accuracy of 0.875. This will therefore be the base value with which we will compare the accuracy of our model after dimension reduction</p>"
   ]
  },
  {
   "cell_type": "code",
   "execution_count": 30,
   "id": "7ac62c48",
   "metadata": {
    "execution": {
     "iopub.execute_input": "2023-02-27T09:55:39.219777Z",
     "iopub.status.busy": "2023-02-27T09:55:39.219216Z",
     "iopub.status.idle": "2023-02-27T09:55:44.988781Z",
     "shell.execute_reply": "2023-02-27T09:55:44.987065Z"
    },
    "papermill": {
     "duration": 5.797227,
     "end_time": "2023-02-27T09:55:44.991358",
     "exception": false,
     "start_time": "2023-02-27T09:55:39.194131",
     "status": "completed"
    },
    "tags": []
   },
   "outputs": [
    {
     "name": "stdout",
     "output_type": "stream",
     "text": [
      "logreg 0.8606205250596659\n",
      "svc 0.8725536992840095\n",
      "knn 0.837708830548926\n",
      "random forest 0.8692124105011934\n",
      "xgboost 0.8749403341288783\n"
     ]
    }
   ],
   "source": [
    "# We instantiate different models to test their accuracy\n",
    "logreg = LogisticRegression(max_iter = 10000)\n",
    "svc = SVC()\n",
    "knn = KNeighborsClassifier()\n",
    "rf = RandomForestClassifier()\n",
    "xg_cl = xgb.XGBClassifier()\n",
    "\n",
    "classifiers = [('logreg',logreg),('svc',svc),('knn',knn),('random forest',rf),('xgboost',xg_cl)]\n",
    "\n",
    "# We fit the different models and compute the accuracy\n",
    "for clf_name, model in classifiers:\n",
    "    model.fit(X_train, y_train)\n",
    "    y_pred = model.predict(X_test)\n",
    "    accuracy = (np.sum(y_pred == y_test))/(len(y_pred))\n",
    "    print(clf_name, accuracy)\n",
    "    "
   ]
  },
  {
   "cell_type": "markdown",
   "id": "f9d9df4b",
   "metadata": {
    "execution": {
     "iopub.status.busy": "2023-02-22T18:17:55.889747Z",
     "iopub.status.idle": "2023-02-22T18:17:55.890216Z",
     "shell.execute_reply": "2023-02-22T18:17:55.890000Z",
     "shell.execute_reply.started": "2023-02-22T18:17:55.889980Z"
    },
    "papermill": {
     "duration": 0.022515,
     "end_time": "2023-02-27T09:55:45.037190",
     "exception": false,
     "start_time": "2023-02-27T09:55:45.014675",
     "status": "completed"
    },
    "tags": []
   },
   "source": [
    "<h1 style=\"font-family:monospace\">8. Dimension reduction</h1>\n",
    "<h2 style=\"font-family:monospace; margin-left: 25px\">8.1 Feature selection with Random forests</h2>\n",
    "<p style = \"font-family:georgia, serif; font-size:17px\">Random forest classifiers have a feature importances attribute that shows the contribution of each feature to the model. </p>"
   ]
  },
  {
   "cell_type": "code",
   "execution_count": 31,
   "id": "83d81835",
   "metadata": {
    "execution": {
     "iopub.execute_input": "2023-02-27T09:55:45.083541Z",
     "iopub.status.busy": "2023-02-27T09:55:45.082335Z",
     "iopub.status.idle": "2023-02-27T09:55:46.691068Z",
     "shell.execute_reply": "2023-02-27T09:55:46.689426Z"
    },
    "papermill": {
     "duration": 1.635546,
     "end_time": "2023-02-27T09:55:46.694438",
     "exception": false,
     "start_time": "2023-02-27T09:55:45.058892",
     "status": "completed"
    },
    "tags": []
   },
   "outputs": [
    {
     "data": {
      "text/plain": [
       "like                  0.050750\n",
       "attractive_o          0.046539\n",
       "funny_o               0.038949\n",
       "shared_interests_o    0.037931\n",
       "funny_partner         0.034313\n",
       "dtype: float64"
      ]
     },
     "execution_count": 31,
     "metadata": {},
     "output_type": "execute_result"
    }
   ],
   "source": [
    "rf = RandomForestClassifier()\n",
    "\n",
    "# Fit the classifier\n",
    "rf.fit(X_train, y_train)\n",
    "\n",
    "# Retrieve the feature importances\n",
    "rf_importance = pd.Series(rf.feature_importances_, index = rf.feature_names_in_)\n",
    "rf_importance = rf_importance.sort_values(ascending = False)\n",
    "rf_importance.head()"
   ]
  },
  {
   "cell_type": "markdown",
   "id": "73d48cff",
   "metadata": {
    "papermill": {
     "duration": 0.023862,
     "end_time": "2023-02-27T09:55:46.741818",
     "exception": false,
     "start_time": "2023-02-27T09:55:46.717956",
     "status": "completed"
    },
    "tags": []
   },
   "source": [
    "<div style = \"font-family:georgia, serif; font-size:17px\">\n",
    "    \n",
    "The top most important features according to the random forest classifier are:\n",
    "1. Rating by partner (about me) on attractiveness\n",
    "2. Whether they like their partner\n",
    "3. Rating by partner (about me) on shared interest\n",
    "4. Rating by partner (about me) at night of event on being funny\n",
    "5. Rating on your partner being funny\n",
    "\n",
    "The least important feature is the race of the person or of their parner.\n",
    "    \n",
    "</div>"
   ]
  },
  {
   "cell_type": "code",
   "execution_count": 32,
   "id": "49068cb6",
   "metadata": {
    "execution": {
     "iopub.execute_input": "2023-02-27T09:55:46.789619Z",
     "iopub.status.busy": "2023-02-27T09:55:46.789115Z",
     "iopub.status.idle": "2023-02-27T09:55:48.353808Z",
     "shell.execute_reply": "2023-02-27T09:55:48.352573Z"
    },
    "papermill": {
     "duration": 1.592562,
     "end_time": "2023-02-27T09:55:48.357282",
     "exception": false,
     "start_time": "2023-02-27T09:55:46.764720",
     "status": "completed"
    },
    "tags": []
   },
   "outputs": [
    {
     "data": {
      "image/png": "[encoded data removed]",
      "text/plain": [
       "<Figure size 1000x1200 with 1 Axes>"
      ]
     },
     "metadata": {},
     "output_type": "display_data"
    }
   ],
   "source": [
    "# Visualizing the feature importances\n",
    "fig = plt.figure(figsize = (10,12))\n",
    "rf_importance.plot(kind = 'barh', width =0.8)\n",
    "plt.tight_layout()\n",
    "plt.show()"
   ]
  },
  {
   "cell_type": "markdown",
   "id": "5557cad2",
   "metadata": {
    "papermill": {
     "duration": 0.025011,
     "end_time": "2023-02-27T09:55:48.409788",
     "exception": false,
     "start_time": "2023-02-27T09:55:48.384777",
     "status": "completed"
    },
    "tags": []
   },
   "source": [
    "<p style = \"font-family:georgia, serif; font-size:17px\">The feature importance values of random forests are in percentage. Therefore, we can try and select features with a contribution of more than 1% and see if removing the features reduces noise, thus improving our model accuracy.</p>"
   ]
  },
  {
   "cell_type": "code",
   "execution_count": 33,
   "id": "2c81f1a1",
   "metadata": {
    "execution": {
     "iopub.execute_input": "2023-02-27T09:55:48.464210Z",
     "iopub.status.busy": "2023-02-27T09:55:48.463384Z",
     "iopub.status.idle": "2023-02-27T09:55:49.729969Z",
     "shell.execute_reply": "2023-02-27T09:55:49.728706Z"
    },
    "papermill": {
     "duration": 1.296359,
     "end_time": "2023-02-27T09:55:49.733227",
     "exception": false,
     "start_time": "2023-02-27T09:55:48.436868",
     "status": "completed"
    },
    "tags": []
   },
   "outputs": [
    {
     "name": "stdout",
     "output_type": "stream",
     "text": [
      "Dropping features from 70 to 51 give an accuracy of 0.8673031026252983\n"
     ]
    }
   ],
   "source": [
    "# Selecting features \n",
    "top_features = rf_importance[rf_importance>0.01].index\n",
    "\n",
    "xg_cl = xgb.XGBClassifier()\n",
    "\n",
    "# Fit the model\n",
    "xg_cl.fit(X_train[top_features], y_train)\n",
    "\n",
    "# Make predictions\n",
    "y_pred = xg_cl.predict(X_test[top_features])\n",
    "accuracy = (np.sum(y_pred == y_test))/(len(y_pred))\n",
    "print(f'Dropping features from {len(rf_importance)} to {len(top_features)} give an accuracy of {accuracy}')"
   ]
  },
  {
   "cell_type": "markdown",
   "id": "159f468b",
   "metadata": {
    "execution": {
     "iopub.execute_input": "2023-02-22T19:15:22.259770Z",
     "iopub.status.busy": "2023-02-22T19:15:22.259345Z",
     "iopub.status.idle": "2023-02-22T19:15:22.269404Z",
     "shell.execute_reply": "2023-02-22T19:15:22.267899Z",
     "shell.execute_reply.started": "2023-02-22T19:15:22.259735Z"
    },
    "papermill": {
     "duration": 0.02432,
     "end_time": "2023-02-27T09:55:49.782369",
     "exception": false,
     "start_time": "2023-02-27T09:55:49.758049",
     "status": "completed"
    },
    "tags": []
   },
   "source": [
    "<h2 style=\"font-family:monospace; margin-left: 25px\">8.2 Feature selection with xgboost</h2>\n",
    "\n",
    "<div style = \"font-family:georgia, serif; font-size:17px\">\n",
    "    \n",
    "Xgboost is used in feature selection by outputting feature importance values from a trained model. To leverage the performance and efficiency of the algorithm, the dataset is converted to a DMatrix format which is used for training. \n",
    "The top most important features according to the xgboost classifier are:\n",
    "1. Rating by partner (about me) on attractiveness\n",
    "2. Rating of how you think your partner likes you?\n",
    "3. Rating by partner (about me) on being funny\n",
    "4. Rating by partner (about me) on shared interest\n",
    "5. How many matches do you expect to get?\n",
    "\n",
    "Xgboost has the .plot_importance() method that is used to visualize the importance values of all features in a plot.\n",
    "</div>"
   ]
  },
  {
   "cell_type": "code",
   "execution_count": 34,
   "id": "c8a8b6ef",
   "metadata": {
    "execution": {
     "iopub.execute_input": "2023-02-27T09:55:49.834762Z",
     "iopub.status.busy": "2023-02-27T09:55:49.833494Z",
     "iopub.status.idle": "2023-02-27T09:55:51.559544Z",
     "shell.execute_reply": "2023-02-27T09:55:51.558157Z"
    },
    "papermill": {
     "duration": 1.759067,
     "end_time": "2023-02-27T09:55:51.565611",
     "exception": false,
     "start_time": "2023-02-27T09:55:49.806544",
     "status": "completed"
    },
    "tags": []
   },
   "outputs": [
    {
     "data": {
      "image/png": "[encoded data removed]",
      "text/plain": [
       "<Figure size 1300x1600 with 1 Axes>"
      ]
     },
     "metadata": {},
     "output_type": "display_data"
    }
   ],
   "source": [
    "# Convert the data to dmatrix\n",
    "dating_matrix = xgb.DMatrix(data = X_train, label = y_train)\n",
    "params = {'objective':'binary:logistic'}\n",
    "\n",
    "# Train data using dmatrix format\n",
    "xgb_clf = xgb.train(dtrain = dating_matrix, params = params, num_boost_round = 10)\n",
    "\n",
    "# Plot the feature importances\n",
    "fig, ax  = plt.subplots(figsize = (13,16))\n",
    "xgb.plot_importance(xgb_clf, ax = ax)\n",
    "plt.show()"
   ]
  },
  {
   "cell_type": "markdown",
   "id": "0a8092cd",
   "metadata": {
    "papermill": {
     "duration": 0.02941,
     "end_time": "2023-02-27T09:55:51.626062",
     "exception": false,
     "start_time": "2023-02-27T09:55:51.596652",
     "status": "completed"
    },
    "tags": []
   },
   "source": [
    "<p style = \"font-family:georgia, serif; font-size:17px\">In xgboost, the scores of each feature can be retrieved using the .get_score() method</p>"
   ]
  },
  {
   "cell_type": "code",
   "execution_count": 35,
   "id": "836ab560",
   "metadata": {
    "execution": {
     "iopub.execute_input": "2023-02-27T09:55:51.689462Z",
     "iopub.status.busy": "2023-02-27T09:55:51.688305Z",
     "iopub.status.idle": "2023-02-27T09:55:51.706245Z",
     "shell.execute_reply": "2023-02-27T09:55:51.704810Z"
    },
    "papermill": {
     "duration": 0.053343,
     "end_time": "2023-02-27T09:55:51.709140",
     "exception": false,
     "start_time": "2023-02-27T09:55:51.655797",
     "status": "completed"
    },
    "tags": []
   },
   "outputs": [
    {
     "data": {
      "text/plain": [
       "attractive_o            28.0\n",
       "guess_prob_liked        22.0\n",
       "shared_interests_o      21.0\n",
       "funny_partner           21.0\n",
       "pref_o_intelligence     20.0\n",
       "expected_num_matches    20.0\n",
       "funny_o                 20.0\n",
       "interests_correlate     19.0\n",
       "Name: score, dtype: float64"
      ]
     },
     "execution_count": 35,
     "metadata": {},
     "output_type": "execute_result"
    }
   ],
   "source": [
    "xgb_features = pd.DataFrame(xgb_clf.get_score(), index = ['score']).T\n",
    "xgb_features['score'].sort_values(ascending=False).head(8)"
   ]
  },
  {
   "cell_type": "markdown",
   "id": "141a586c",
   "metadata": {
    "papermill": {
     "duration": 0.029822,
     "end_time": "2023-02-27T09:55:51.769767",
     "exception": false,
     "start_time": "2023-02-27T09:55:51.739945",
     "status": "completed"
    },
    "tags": []
   },
   "source": [
    "<p style = \"font-family:georgia, serif; font-size:17px\">We will evaluate the accuracy of the model with features with a score greater than 3. This selects 47 features which does not greatly affect our accuracy.</p>"
   ]
  },
  {
   "cell_type": "code",
   "execution_count": 36,
   "id": "6dfcdf4e",
   "metadata": {
    "execution": {
     "iopub.execute_input": "2023-02-27T09:55:51.854173Z",
     "iopub.status.busy": "2023-02-27T09:55:51.852037Z",
     "iopub.status.idle": "2023-02-27T09:55:53.056720Z",
     "shell.execute_reply": "2023-02-27T09:55:53.054952Z"
    },
    "papermill": {
     "duration": 1.252026,
     "end_time": "2023-02-27T09:55:53.059923",
     "exception": false,
     "start_time": "2023-02-27T09:55:51.807897",
     "status": "completed"
    },
    "tags": []
   },
   "outputs": [
    {
     "name": "stdout",
     "output_type": "stream",
     "text": [
      "Dropping features from 70 to 47 results in an accuracy of 0.8696897374701671\n"
     ]
    }
   ],
   "source": [
    "xgb_cl = xgb.XGBClassifier()\n",
    "\n",
    "# Selecting features\n",
    "xgb_top_features = xgb_features[xgb_features['score'] > 3].index\n",
    "\n",
    "# Fit and predict\n",
    "xgb_cl.fit(X_train[xgb_top_features],y_train)\n",
    "y_pred = xgb_cl.predict(X_test[xgb_top_features])\n",
    "accuracy = (np.sum(y_pred == y_test))/(len(y_pred))\n",
    "print(f'Dropping features from 70 to {len(xgb_top_features)} results in an accuracy of {accuracy}')"
   ]
  },
  {
   "cell_type": "markdown",
   "id": "ba0af07c",
   "metadata": {
    "papermill": {
     "duration": 0.02903,
     "end_time": "2023-02-27T09:55:53.118472",
     "exception": false,
     "start_time": "2023-02-27T09:55:53.089442",
     "status": "completed"
    },
    "tags": []
   },
   "source": [
    "<h2 style=\"font-family:monospace; margin-left: 25px\">8.3 Dimension reduction with Recursive Feature Elimination - RFE</h2>\n",
    "\n",
    "<div style = \"font-family:georgia, serif; font-size:17px\">\n",
    "    \n",
    "RFE is feature selection algorithm that produces feature importances or feature coeffients when a model is passed to it. It fits the model and drops the weakest features, and repeats the process until the specified number of features is attained. \n",
    "\n",
    "Using xgboost classifier, we test the accuracy of different number of features As seen below, the accuracy of a model with 70 features isn't very different with a model fitted with 40 features. In fact, reducing features from 30 to 15 has an insignificant impact on the model's accuracy. \n",
    "\n",
    "In essence, if you are more concerned with what features play an important role in your prediction, the automatic selection of features by the recursive feature elimination method is very effective. In this circumstance, it's a tradeoff between dimensionality and accuracy. \n",
    "\n",
    "</div>"
   ]
  },
  {
   "cell_type": "code",
   "execution_count": 37,
   "id": "08d7ce4d",
   "metadata": {
    "execution": {
     "iopub.execute_input": "2023-02-27T09:55:53.177920Z",
     "iopub.status.busy": "2023-02-27T09:55:53.177510Z",
     "iopub.status.idle": "2023-02-27T10:05:52.104124Z",
     "shell.execute_reply": "2023-02-27T10:05:52.102456Z"
    },
    "papermill": {
     "duration": 598.9857,
     "end_time": "2023-02-27T10:05:52.132744",
     "exception": false,
     "start_time": "2023-02-27T09:55:53.147044",
     "status": "completed"
    },
    "tags": []
   },
   "outputs": [
    {
     "name": "stdout",
     "output_type": "stream",
     "text": [
      "The accuracy of 70 features is 0.8749403341288783\n",
      "The accuracy of 65 features is 0.8711217183770883\n",
      "The accuracy of 60 features is 0.8692124105011934\n",
      "The accuracy of 55 features is 0.8744630071599045\n",
      "The accuracy of 50 features is 0.8735083532219571\n",
      "The accuracy of 45 features is 0.8701670644391408\n",
      "The accuracy of 40 features is 0.8706443914081146\n",
      "The accuracy of 35 features is 0.8634844868735083\n",
      "The accuracy of 30 features is 0.8663484486873508\n",
      "The accuracy of 25 features is 0.867780429594272\n",
      "The accuracy of 20 features is 0.8601431980906922\n",
      "The accuracy of 15 features is 0.863961813842482\n",
      "The accuracy of 10 features is 0.8658711217183771\n",
      "The accuracy of 5 features is 0.847255369928401\n"
     ]
    }
   ],
   "source": [
    "from sklearn.feature_selection import RFE\n",
    "\n",
    "xgb_cl = xgb.XGBClassifier()\n",
    "\n",
    "for features in list(range(70,1,-5)):\n",
    "    # Instantiate and fit the RFE\n",
    "    rfe = RFE(estimator = xgb_cl, n_features_to_select = features)\n",
    "    rfe.fit(X_train,y_train)\n",
    "    \n",
    "    # Make predictions\n",
    "    y_pred = rfe.predict(X_test)\n",
    "    accuracy = (np.sum(y_pred == y_test))/(len(y_pred))\n",
    "    print(f'The accuracy of {features} features is {accuracy}')"
   ]
  },
  {
   "cell_type": "markdown",
   "id": "b014c9c6",
   "metadata": {
    "papermill": {
     "duration": 0.029438,
     "end_time": "2023-02-27T10:05:52.192797",
     "exception": false,
     "start_time": "2023-02-27T10:05:52.163359",
     "status": "completed"
    },
    "tags": []
   },
   "source": [
    "<h3 style=\"font-family:monospace; margin-left: 25px\">8.3.1 Selecting the features</h3>\n",
    "<p style = \"font-family:georgia, serif; font-size:17px\">Suppose we want a balance between dimensionality of the dataset and the accuracy, we can select 15 features whose accuracy is 0.867. The .support_ attribute is used to give a mask with True and False values for features selected and those not selected respectively.</p>"
   ]
  },
  {
   "cell_type": "code",
   "execution_count": 38,
   "id": "9429dfea",
   "metadata": {
    "execution": {
     "iopub.execute_input": "2023-02-27T10:05:52.257517Z",
     "iopub.status.busy": "2023-02-27T10:05:52.257092Z",
     "iopub.status.idle": "2023-02-27T10:06:58.985764Z",
     "shell.execute_reply": "2023-02-27T10:06:58.984092Z"
    },
    "papermill": {
     "duration": 66.793208,
     "end_time": "2023-02-27T10:06:59.017162",
     "exception": false,
     "start_time": "2023-02-27T10:05:52.223954",
     "status": "completed"
    },
    "tags": []
   },
   "outputs": [
    {
     "name": "stdout",
     "output_type": "stream",
     "text": [
      "Model accuracy is 0.863961813842482\n",
      "\n",
      "Top 15 features in the xgb classifier are:\n",
      "['pref_o_intelligence', 'attractive_o', 'funny_o', 'shared_interests_o', 'attractive_important', 'intellicence_important', 'attractive', 'attractive_partner', 'funny_partner', 'hiking', 'movies', 'expected_num_matches', 'like', 'guess_prob_liked', 'met']\n"
     ]
    }
   ],
   "source": [
    "xgb_cl = xgb.XGBClassifier()\n",
    "\n",
    "# Instatiate RFE with 15 features\n",
    "rfe = RFE(estimator = xgb.XGBClassifier(), n_features_to_select = 15)\n",
    "\n",
    "# Fit and predict\n",
    "rfe.fit(X_train,y_train)\n",
    "y_pred = rfe.predict(X_test)\n",
    "accuracy = (np.sum(y_pred == y_test))/(len(y_pred))\n",
    "print(f'Model accuracy is {accuracy}')\n",
    "\n",
    "# Select a mask with features selected\n",
    "mask = rfe.support_\n",
    "xgb_top_15_features = X_train.columns[mask].tolist()\n",
    "print(f'\\nTop 15 features in the xgb classifier are:\\n{xgb_top_15_features}')"
   ]
  },
  {
   "cell_type": "markdown",
   "id": "f2451e69",
   "metadata": {
    "execution": {
     "iopub.execute_input": "2023-02-23T09:04:12.153260Z",
     "iopub.status.busy": "2023-02-23T09:04:12.152840Z",
     "iopub.status.idle": "2023-02-23T09:04:12.161928Z",
     "shell.execute_reply": "2023-02-23T09:04:12.160658Z",
     "shell.execute_reply.started": "2023-02-23T09:04:12.153226Z"
    },
    "papermill": {
     "duration": 0.02984,
     "end_time": "2023-02-27T10:06:59.079106",
     "exception": false,
     "start_time": "2023-02-27T10:06:59.049266",
     "status": "completed"
    },
    "tags": []
   },
   "source": [
    "<h3 style=\"font-family:monospace; margin-left: 25px\">8.3.2 Combining features from different models</h3>\n",
    "<p style = \"font-family:georgia, serif; font-size:17px\">You can use different models and choose features with selected by all the models, and then use these features for prediction. We will select the top 30 features in three models and select common features</p>\n",
    "\n",
    "<h4 style=\"font-family:monospace; margin-left: 25px\">Selecting random forest features</h4>"
   ]
  },
  {
   "cell_type": "code",
   "execution_count": 39,
   "id": "71002edc",
   "metadata": {
    "execution": {
     "iopub.execute_input": "2023-02-27T10:06:59.142473Z",
     "iopub.status.busy": "2023-02-27T10:06:59.141888Z",
     "iopub.status.idle": "2023-02-27T10:08:03.503039Z",
     "shell.execute_reply": "2023-02-27T10:08:03.501637Z"
    },
    "papermill": {
     "duration": 64.430272,
     "end_time": "2023-02-27T10:08:03.540417",
     "exception": false,
     "start_time": "2023-02-27T10:06:59.110145",
     "status": "completed"
    },
    "tags": []
   },
   "outputs": [
    {
     "name": "stdout",
     "output_type": "stream",
     "text": [
      "Model accuracy is 0.8696897374701671\n"
     ]
    }
   ],
   "source": [
    "rf = RandomForestClassifier()\n",
    "\n",
    "rfe = RFE(estimator = rf, n_features_to_select = 30)\n",
    "rfe.fit(X_train,y_train)\n",
    "y_pred = rfe.predict(X_test)\n",
    "accuracy = (np.sum(y_pred == y_test))/(len(y_pred))\n",
    "print(f'Model accuracy is {accuracy}')\n",
    "\n",
    "mask_rfe = rfe.support_"
   ]
  },
  {
   "cell_type": "markdown",
   "id": "92bbb7e7",
   "metadata": {
    "papermill": {
     "duration": 0.032686,
     "end_time": "2023-02-27T10:08:03.605877",
     "exception": false,
     "start_time": "2023-02-27T10:08:03.573191",
     "status": "completed"
    },
    "tags": []
   },
   "source": [
    "<h4 style=\"font-family:monospace; margin-left: 25px\">Selecting logistic Regression features</h4>"
   ]
  },
  {
   "cell_type": "code",
   "execution_count": 40,
   "id": "2487b67a",
   "metadata": {
    "execution": {
     "iopub.execute_input": "2023-02-27T10:08:03.673014Z",
     "iopub.status.busy": "2023-02-27T10:08:03.671993Z",
     "iopub.status.idle": "2023-02-27T10:08:07.601751Z",
     "shell.execute_reply": "2023-02-27T10:08:07.600365Z"
    },
    "papermill": {
     "duration": 3.966494,
     "end_time": "2023-02-27T10:08:07.604956",
     "exception": false,
     "start_time": "2023-02-27T10:08:03.638462",
     "status": "completed"
    },
    "tags": []
   },
   "outputs": [
    {
     "name": "stdout",
     "output_type": "stream",
     "text": [
      "Model accuracy is 0.8625298329355608\n"
     ]
    }
   ],
   "source": [
    "logreg = LogisticRegression(max_iter =100000)\n",
    "\n",
    "rfe = RFE(estimator = logreg, n_features_to_select = 30)\n",
    "rfe.fit(X_train,y_train)\n",
    "y_pred = rfe.predict(X_test)\n",
    "accuracy = (np.sum(y_pred == y_test))/(len(y_pred))\n",
    "print(f'Model accuracy is {accuracy}')\n",
    "\n",
    "mask_log = rfe.support_"
   ]
  },
  {
   "cell_type": "markdown",
   "id": "4d5bb658",
   "metadata": {
    "papermill": {
     "duration": 0.049274,
     "end_time": "2023-02-27T10:08:07.706375",
     "exception": false,
     "start_time": "2023-02-27T10:08:07.657101",
     "status": "completed"
    },
    "tags": []
   },
   "source": [
    "<h4 style=\"font-family:monospace; margin-left: 25px\">Selecting xgboost features</h4>"
   ]
  },
  {
   "cell_type": "code",
   "execution_count": 41,
   "id": "39a4458f",
   "metadata": {
    "execution": {
     "iopub.execute_input": "2023-02-27T10:08:07.772853Z",
     "iopub.status.busy": "2023-02-27T10:08:07.772240Z",
     "iopub.status.idle": "2023-02-27T10:09:00.874156Z",
     "shell.execute_reply": "2023-02-27T10:09:00.873089Z"
    },
    "papermill": {
     "duration": 53.163213,
     "end_time": "2023-02-27T10:09:00.903856",
     "exception": false,
     "start_time": "2023-02-27T10:08:07.740643",
     "status": "completed"
    },
    "tags": []
   },
   "outputs": [
    {
     "name": "stdout",
     "output_type": "stream",
     "text": [
      "Model accuracy is 0.8663484486873508\n"
     ]
    }
   ],
   "source": [
    "xgb_cl = xgb.XGBClassifier()\n",
    "\n",
    "rfe = RFE(estimator = xgb_cl, n_features_to_select = 30)\n",
    "rfe.fit(X_train,y_train)\n",
    "y_pred = rfe.predict(X_test)\n",
    "accuracy = (np.sum(y_pred == y_test))/(len(y_pred))\n",
    "print(f'Model accuracy is {accuracy}')\n",
    "\n",
    "mask_xgb = rfe.support_"
   ]
  },
  {
   "cell_type": "markdown",
   "id": "95341724",
   "metadata": {
    "papermill": {
     "duration": 0.029445,
     "end_time": "2023-02-27T10:09:00.963934",
     "exception": false,
     "start_time": "2023-02-27T10:09:00.934489",
     "status": "completed"
    },
    "tags": []
   },
   "source": [
    "<h3 style=\"font-family:monospace; margin-left: 25px\">8.3.3 Evaluating features selected by the three classifiers</h3>\n",
    "<p style = \"font-family:georgia, serif; font-size:17px\">After selecting 30 features in all our models, we will combine them to select features chosen by all the models. We will use these features for our prediction. A total of 11 features were present in all the models.</p>"
   ]
  },
  {
   "cell_type": "code",
   "execution_count": 42,
   "id": "4e7ade47",
   "metadata": {
    "execution": {
     "iopub.execute_input": "2023-02-27T10:09:01.030285Z",
     "iopub.status.busy": "2023-02-27T10:09:01.029250Z",
     "iopub.status.idle": "2023-02-27T10:09:01.038060Z",
     "shell.execute_reply": "2023-02-27T10:09:01.036831Z"
    },
    "papermill": {
     "duration": 0.048335,
     "end_time": "2023-02-27T10:09:01.042115",
     "exception": false,
     "start_time": "2023-02-27T10:09:00.993780",
     "status": "completed"
    },
    "tags": []
   },
   "outputs": [
    {
     "name": "stdout",
     "output_type": "stream",
     "text": [
      "(11,)\n",
      "\n",
      "Index(['pref_o_intelligence', 'attractive_o', 'funny_o', 'shared_interests_o',\n",
      "       'attractive_important', 'ambtition_important', 'attractive_partner',\n",
      "       'funny_partner', 'expected_num_matches', 'like', 'guess_prob_liked'],\n",
      "      dtype='object')\n"
     ]
    }
   ],
   "source": [
    "# Find sum of mask to identify common features \n",
    "mask_all_models = np.sum([mask_rfe, mask_log,mask_xgb], axis=0)\n",
    "\n",
    "# Select features selected by all the three models\n",
    "mask = mask_all_models == 3\n",
    "most_important_features = X_train.columns[mask]\n",
    "\n",
    "print(most_important_features.shape)\n",
    "print()\n",
    "print(most_important_features)"
   ]
  },
  {
   "cell_type": "markdown",
   "id": "f01c72b6",
   "metadata": {
    "papermill": {
     "duration": 0.033062,
     "end_time": "2023-02-27T10:09:01.108094",
     "exception": false,
     "start_time": "2023-02-27T10:09:01.075032",
     "status": "completed"
    },
    "tags": []
   },
   "source": [
    "<p style = \"font-family:georgia, serif; font-size:17px\">When the 11 features selected by the three models are evaluated, they give an accuracy of 0.863 with xgboost, a value not very far from 0.875 when using 70 features.</p>"
   ]
  },
  {
   "cell_type": "code",
   "execution_count": 43,
   "id": "30887caa",
   "metadata": {
    "execution": {
     "iopub.execute_input": "2023-02-27T10:09:01.179094Z",
     "iopub.status.busy": "2023-02-27T10:09:01.177656Z",
     "iopub.status.idle": "2023-02-27T10:09:01.846153Z",
     "shell.execute_reply": "2023-02-27T10:09:01.844187Z"
    },
    "papermill": {
     "duration": 0.707245,
     "end_time": "2023-02-27T10:09:01.849767",
     "exception": false,
     "start_time": "2023-02-27T10:09:01.142522",
     "status": "completed"
    },
    "tags": []
   },
   "outputs": [
    {
     "name": "stdout",
     "output_type": "stream",
     "text": [
      "Accuracy of 11 features selected by all models is 0.8634844868735083\n"
     ]
    }
   ],
   "source": [
    "xg_cl = xgb.XGBClassifier()\n",
    "\n",
    "xg_cl.fit(X_train[most_important_features], y_train)\n",
    "y_pred = xg_cl.predict(X_test[most_important_features])\n",
    "accuracy = (np.sum(y_pred == y_test))/(len(y_pred))\n",
    "print(f'Accuracy of 11 features selected by all models is {accuracy}')    "
   ]
  },
  {
   "cell_type": "markdown",
   "id": "adcd7ba9",
   "metadata": {
    "execution": {
     "iopub.execute_input": "2023-02-23T09:52:26.855897Z",
     "iopub.status.busy": "2023-02-23T09:52:26.855261Z",
     "iopub.status.idle": "2023-02-23T09:52:26.863075Z",
     "shell.execute_reply": "2023-02-23T09:52:26.861379Z",
     "shell.execute_reply.started": "2023-02-23T09:52:26.855860Z"
    },
    "papermill": {
     "duration": 0.031888,
     "end_time": "2023-02-27T10:09:01.913867",
     "exception": false,
     "start_time": "2023-02-27T10:09:01.881979",
     "status": "completed"
    },
    "tags": []
   },
   "source": [
    "<h2 style=\"font-family:monospace; margin-left: 25px\">8.4 Dimension reduction with PCA</h2>\n",
    "<p style = \"font-family:georgia, serif; font-size:17px\">PCA is another dimension-reduction technique. It has the explained_variance_ratio_ attribute that provides the variance of each feature. </p>"
   ]
  },
  {
   "cell_type": "code",
   "execution_count": 44,
   "id": "88ad8240",
   "metadata": {
    "execution": {
     "iopub.execute_input": "2023-02-27T10:09:01.984864Z",
     "iopub.status.busy": "2023-02-27T10:09:01.983780Z",
     "iopub.status.idle": "2023-02-27T10:09:02.051644Z",
     "shell.execute_reply": "2023-02-27T10:09:02.049407Z"
    },
    "papermill": {
     "duration": 0.110493,
     "end_time": "2023-02-27T10:09:02.059162",
     "exception": false,
     "start_time": "2023-02-27T10:09:01.948669",
     "status": "completed"
    },
    "tags": []
   },
   "outputs": [
    {
     "data": {
      "text/plain": [
       "array([9.26981372e-02, 7.33041859e-02, 5.34072404e-02, 5.23595302e-02,\n",
       "       4.03272842e-02, 3.56476070e-02, 3.49903772e-02, 2.91299489e-02,\n",
       "       2.59795903e-02, 2.38143307e-02, 2.34089634e-02, 2.20175478e-02,\n",
       "       2.09824843e-02, 2.03839325e-02, 1.97322232e-02, 1.93722168e-02,\n",
       "       1.84591183e-02, 1.79989329e-02, 1.76005903e-02, 1.69436094e-02,\n",
       "       1.65425638e-02, 1.60193268e-02, 1.56413127e-02, 1.49585547e-02,\n",
       "       1.47031287e-02, 1.40780449e-02, 1.39806460e-02, 1.31456652e-02,\n",
       "       1.26551068e-02, 1.21945011e-02, 1.21067298e-02, 1.14404479e-02,\n",
       "       1.06083411e-02, 1.02603270e-02, 9.89580666e-03, 9.68783508e-03,\n",
       "       9.16074348e-03, 8.79712726e-03, 8.30033233e-03, 8.14781338e-03,\n",
       "       7.62529319e-03, 7.47805870e-03, 7.24608578e-03, 6.84479722e-03,\n",
       "       6.43167034e-03, 6.37360759e-03, 5.78662455e-03, 5.44258999e-03,\n",
       "       5.27735444e-03, 5.03121809e-03, 4.88236089e-03, 4.78409952e-03,\n",
       "       4.42349683e-03, 4.08181845e-03, 3.44392786e-03, 3.27228774e-03,\n",
       "       2.30599289e-03, 1.88738415e-03, 1.52177027e-03, 1.16861939e-03,\n",
       "       1.11763062e-03, 9.17013251e-04, 8.11286013e-04, 3.22892017e-04,\n",
       "       3.00064330e-04, 1.70952366e-04, 1.68897978e-04, 1.82814841e-32,\n",
       "       3.86931694e-34, 3.86931694e-34])"
      ]
     },
     "execution_count": 44,
     "metadata": {},
     "output_type": "execute_result"
    }
   ],
   "source": [
    "pca = PCA()\n",
    "pca.fit(X_train, y_train)\n",
    "variance = pca.explained_variance_ratio_\n",
    "variance"
   ]
  },
  {
   "cell_type": "markdown",
   "id": "d252f3f9",
   "metadata": {
    "papermill": {
     "duration": 0.046939,
     "end_time": "2023-02-27T10:09:02.165705",
     "exception": false,
     "start_time": "2023-02-27T10:09:02.118766",
     "status": "completed"
    },
    "tags": []
   },
   "source": [
    "<p style = \"font-family:georgia, serif; font-size:17px\">A plot of explained variance ratio is a good indicator of the ideal number of n_components to be used in PCA. The number of components is picked from the elbow where there is an abrupt shift in explained variance. In this case, it is 11.</p>"
   ]
  },
  {
   "cell_type": "code",
   "execution_count": 45,
   "id": "65e2fcc0",
   "metadata": {
    "execution": {
     "iopub.execute_input": "2023-02-27T10:09:02.236087Z",
     "iopub.status.busy": "2023-02-27T10:09:02.235506Z",
     "iopub.status.idle": "2023-02-27T10:09:02.669734Z",
     "shell.execute_reply": "2023-02-27T10:09:02.668585Z"
    },
    "papermill": {
     "duration": 0.472993,
     "end_time": "2023-02-27T10:09:02.672926",
     "exception": false,
     "start_time": "2023-02-27T10:09:02.199933",
     "status": "completed"
    },
    "tags": []
   },
   "outputs": [
    {
     "data": {
      "image/png": "[encoded data removed]",
      "text/plain": [
       "<Figure size 1000x600 with 1 Axes>"
      ]
     },
     "metadata": {},
     "output_type": "display_data"
    }
   ],
   "source": [
    "fig = plt.figure(figsize = (10,6))\n",
    "sns.lineplot(variance)\n",
    "plt.grid(True)\n",
    "plt.xlabel('Number')\n",
    "plt.ylabel('Explained variance ratio')\n",
    "plt.title('A plot of explained variance')\n",
    "plt.xticks(np.arange(0,80,10), np.arange(1,81,10))\n",
    "plt.annotate('Elbow',xy =[9, 0.022], xytext = [31, 0.04], arrowprops=dict(facecolor='grey', shrink=0.05))\n",
    "plt.tight_layout()\n",
    "plt.show()"
   ]
  },
  {
   "cell_type": "markdown",
   "id": "aa70bae6",
   "metadata": {
    "papermill": {
     "duration": 0.035153,
     "end_time": "2023-02-27T10:09:02.742860",
     "exception": false,
     "start_time": "2023-02-27T10:09:02.707707",
     "status": "completed"
    },
    "tags": []
   },
   "source": [
    "<p style = \"font-family:georgia, serif; font-size:17px\">Using the number of components from the elbow, we fit_transform the train dataset and tranform the test set. Using the xgb classifier after reducing the dimensions of data from 70 to 11 features results in an accuracy of 0.85, a slight drop from 0.87 when using 70 features.</p>"
   ]
  },
  {
   "cell_type": "code",
   "execution_count": 46,
   "id": "8efbb237",
   "metadata": {
    "execution": {
     "iopub.execute_input": "2023-02-27T10:09:02.817234Z",
     "iopub.status.busy": "2023-02-27T10:09:02.816711Z",
     "iopub.status.idle": "2023-02-27T10:09:04.343018Z",
     "shell.execute_reply": "2023-02-27T10:09:04.341996Z"
    },
    "papermill": {
     "duration": 1.566798,
     "end_time": "2023-02-27T10:09:04.345656",
     "exception": false,
     "start_time": "2023-02-27T10:09:02.778858",
     "status": "completed"
    },
    "tags": []
   },
   "outputs": [
    {
     "name": "stdout",
     "output_type": "stream",
     "text": [
      "0.8525059665871122\n"
     ]
    }
   ],
   "source": [
    "# Instantiate PCA with 11 components\n",
    "pca = PCA(n_components = 11)\n",
    "\n",
    "xgb_cl = xgb.XGBClassifier()\n",
    "\n",
    "# Fit and transform the training set\n",
    "X_train_transformed = pca.fit_transform(X_train)\n",
    "\n",
    "# Transform the test set\n",
    "X_test_tranformed = pca.transform(X_test)\n",
    "\n",
    "# Fit and predict with the transformed datasets\n",
    "xgb_cl.fit(X_train_transformed,y_train)\n",
    "y_pred = xgb_cl.predict(X_test_tranformed)\n",
    "accuracy = (np.sum(y_pred == y_test))/(len(y_pred))\n",
    "print(accuracy)"
   ]
  },
  {
   "cell_type": "code",
   "execution_count": null,
   "id": "79dcc6ff",
   "metadata": {
    "papermill": {
     "duration": 0.032454,
     "end_time": "2023-02-27T10:09:04.410603",
     "exception": false,
     "start_time": "2023-02-27T10:09:04.378149",
     "status": "completed"
    },
    "tags": []
   },
   "outputs": [],
   "source": []
  }
 ],
 "metadata": {
  "kernelspec": {
   "display_name": "Python 3",
   "language": "python",
   "name": "python3"
  },
  "language_info": {
   "codemirror_mode": {
    "name": "ipython",
    "version": 3
   },
   "file_extension": ".py",
   "mimetype": "text/x-python",
   "name": "python",
   "nbconvert_exporter": "python",
   "pygments_lexer": "ipython3",
   "version": "3.7.12"
  },
  "papermill": {
   "default_parameters": {},
   "duration": 824.822224,
   "end_time": "2023-02-27T10:09:05.369151",
   "environment_variables": {},
   "exception": null,
   "input_path": "__notebook__.ipynb",
   "output_path": "__notebook__.ipynb",
   "parameters": {},
   "start_time": "2023-02-27T09:55:20.546927",
   "version": "2.3.4"
  }
 },
 "nbformat": 4,
 "nbformat_minor": 5
}
